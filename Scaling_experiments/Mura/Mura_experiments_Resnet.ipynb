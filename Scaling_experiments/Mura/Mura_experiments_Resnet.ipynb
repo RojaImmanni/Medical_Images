{
 "cells": [
  {
   "cell_type": "code",
   "execution_count": 1,
   "metadata": {},
   "outputs": [
    {
     "name": "stdout",
     "output_type": "stream",
     "text": [
      "4\n"
     ]
    }
   ],
   "source": [
    "import torch\n",
    "torch.cuda.set_device(4)\n",
    "print(torch.cuda.current_device())"
   ]
  },
  {
   "cell_type": "code",
   "execution_count": 2,
   "metadata": {},
   "outputs": [],
   "source": [
    "%run ../../prepare_data.py\n",
    "%run ../../architectures.py"
   ]
  },
  {
   "cell_type": "code",
   "execution_count": 3,
   "metadata": {},
   "outputs": [],
   "source": [
    "batch_size = 32"
   ]
  },
  {
   "cell_type": "code",
   "execution_count": 4,
   "metadata": {},
   "outputs": [],
   "source": [
    "train_loader, valid_loader, valid_dataset = mura_dataloaders(batch_size)"
   ]
  },
  {
   "cell_type": "code",
   "execution_count": 5,
   "metadata": {},
   "outputs": [],
   "source": [
    "x, y = next(iter(train_loader))"
   ]
  },
  {
   "cell_type": "code",
   "execution_count": 6,
   "metadata": {},
   "outputs": [
    {
     "data": {
      "text/plain": [
       "(torch.Size([32, 3, 250, 200]), torch.Size([32]))"
      ]
     },
     "execution_count": 6,
     "metadata": {},
     "output_type": "execute_result"
    }
   ],
   "source": [
    "x.shape, y.shape"
   ]
  },
  {
   "cell_type": "code",
   "execution_count": 7,
   "metadata": {},
   "outputs": [],
   "source": [
    "model = resnet18().cuda()"
   ]
  },
  {
   "cell_type": "code",
   "execution_count": 8,
   "metadata": {},
   "outputs": [
    {
     "data": {
      "text/plain": [
       "11177025"
      ]
     },
     "execution_count": 8,
     "metadata": {},
     "output_type": "execute_result"
    }
   ],
   "source": [
    "sum(p.numel() for p in model.parameters())"
   ]
  },
  {
   "cell_type": "code",
   "execution_count": 9,
   "metadata": {
    "scrolled": true
   },
   "outputs": [
    {
     "name": "stdout",
     "output_type": "stream",
     "text": [
      "CPU times: user 49.6 s, sys: 8.66 s, total: 58.3 s\n",
      "Wall time: 58.6 s\n"
     ]
    },
    {
     "data": {
      "image/png": "[encoded data removed]",
      "text/plain": [
       "<Figure size 432x288 with 1 Axes>"
      ]
     },
     "metadata": {
      "needs_background": "light"
     },
     "output_type": "display_data"
    }
   ],
   "source": [
    "%%time\n",
    "lrs, losses = LR_range_finder(model, train_loader, \n",
    "                              loss_fn=F.binary_cross_entropy_with_logits, \n",
    "                              binary=True, lr_high=0.05)\n",
    "plot_lr(lrs, losses)"
   ]
  },
  {
   "cell_type": "markdown",
   "metadata": {},
   "source": [
    "# Training"
   ]
  },
  {
   "cell_type": "code",
   "execution_count": 9,
   "metadata": {},
   "outputs": [],
   "source": [
    "widths = [1.0, 0.75, 0.5, 0.25]\n",
    "depths = [[[[64, 2], [128, 2]], [[256, 2], [512, 1]]],\n",
    "          [[[64, 2], [128, 2]], [[256, 1], [512, 1]]],\n",
    "          [[[64, 2], [128, 1]], [[256, 1], [512, 1]]],\n",
    "          [[[64, 2], [128, 1]], [[256, 2], [512, 1]]],\n",
    "          [[[64, 1], [128, 1]], [[256, 2], [512, 1]]],\n",
    "          [[[64, 1], [128, 1]], [[256, 1], [512, 1]]],\n",
    "         ]"
   ]
  },
  {
   "cell_type": "code",
   "execution_count": null,
   "metadata": {},
   "outputs": [
    {
     "name": "stdout",
     "output_type": "stream",
     "text": [
      "width multiplier - 1.000 depth multiplier - 7.000\n",
      "train_loss 0.679 val_loss 0.719 val_auc_score 0.536\n",
      "----End of step 0:01:01.882114\n",
      "train_loss 0.671 val_loss 0.700 val_auc_score 0.566\n",
      "----End of step 0:01:01.392301\n",
      "train_loss 0.667 val_loss 0.699 val_auc_score 0.620\n",
      "----End of step 0:01:01.470825\n",
      "train_loss 0.663 val_loss 0.699 val_auc_score 0.621\n",
      "----End of step 0:01:01.839486\n",
      "train_loss 0.654 val_loss 0.656 val_auc_score 0.677\n",
      "----End of step 0:01:02.319210\n",
      "train_loss 0.642 val_loss 0.657 val_auc_score 0.674\n",
      "----End of step 0:01:02.612682\n",
      "train_loss 0.632 val_loss 0.663 val_auc_score 0.707\n",
      "----End of step 0:01:02.080421\n",
      "train_loss 0.613 val_loss 0.636 val_auc_score 0.707\n",
      "----End of step 0:01:02.044897\n",
      "train_loss 0.594 val_loss 0.614 val_auc_score 0.762\n",
      "----End of step 0:01:02.119300\n",
      "train_loss 0.577 val_loss 0.633 val_auc_score 0.724\n",
      "----End of step 0:01:02.187571\n",
      "train_loss 0.561 val_loss 0.586 val_auc_score 0.796\n",
      "----End of step 0:01:03.209421\n",
      "train_loss 0.554 val_loss 0.594 val_auc_score 0.804\n",
      "----End of step 0:01:03.612689\n",
      "train_loss 0.540 val_loss 0.591 val_auc_score 0.810\n",
      "----End of step 0:01:03.830426\n",
      "train_loss 0.533 val_loss 0.557 val_auc_score 0.810\n",
      "----End of step 0:01:02.858324\n",
      "train_loss 0.526 val_loss 0.554 val_auc_score 0.811\n",
      "----End of step 0:01:02.893286\n",
      "\n",
      "width multiplier - 1.000 depth multiplier - 6.000\n",
      "train_loss 0.684 val_loss 0.710 val_auc_score 0.550\n",
      "----End of step 0:01:00.706153\n",
      "train_loss 0.672 val_loss 0.716 val_auc_score 0.581\n",
      "----End of step 0:01:00.361366\n",
      "train_loss 0.668 val_loss 0.682 val_auc_score 0.607\n",
      "----End of step 0:01:00.577942\n",
      "train_loss 0.665 val_loss 1.293 val_auc_score 0.621\n",
      "----End of step 0:01:00.712654\n",
      "train_loss 0.659 val_loss 0.683 val_auc_score 0.618\n",
      "----End of step 0:01:00.550778\n",
      "train_loss 0.653 val_loss 0.726 val_auc_score 0.648\n",
      "----End of step 0:01:00.819349\n",
      "train_loss 0.644 val_loss 0.692 val_auc_score 0.659\n",
      "----End of step 0:01:00.482788\n",
      "train_loss 0.635 val_loss 0.772 val_auc_score 0.630\n",
      "----End of step 0:01:00.541564\n",
      "train_loss 0.626 val_loss 0.662 val_auc_score 0.708\n",
      "----End of step 0:01:01.422070\n",
      "train_loss 0.609 val_loss 0.623 val_auc_score 0.722\n",
      "----End of step 0:01:01.080193\n",
      "train_loss 0.596 val_loss 0.632 val_auc_score 0.745\n",
      "----End of step 0:01:00.475838\n",
      "train_loss 0.578 val_loss 0.620 val_auc_score 0.744\n",
      "----End of step 0:01:00.267265\n",
      "train_loss 0.568 val_loss 0.589 val_auc_score 0.766\n",
      "----End of step 0:01:01.497794\n",
      "train_loss 0.560 val_loss 0.592 val_auc_score 0.782\n",
      "----End of step 0:00:59.972086\n",
      "train_loss 0.555 val_loss 0.589 val_auc_score 0.778\n",
      "----End of step 0:01:00.931496\n",
      "\n",
      "width multiplier - 1.000 depth multiplier - 5.000\n",
      "train_loss 0.681 val_loss 0.685 val_auc_score 0.592\n",
      "----End of step 0:00:57.597683\n",
      "train_loss 0.669 val_loss 0.691 val_auc_score 0.553\n",
      "----End of step 0:00:57.975442\n",
      "train_loss 0.664 val_loss 0.801 val_auc_score 0.564\n",
      "----End of step 0:00:56.548778\n",
      "train_loss 0.660 val_loss 0.706 val_auc_score 0.597\n",
      "----End of step 0:00:57.566963\n",
      "train_loss 0.654 val_loss 0.699 val_auc_score 0.587\n",
      "----End of step 0:00:57.748832\n",
      "train_loss 0.643 val_loss 0.692 val_auc_score 0.633\n",
      "----End of step 0:00:56.420964\n",
      "train_loss 0.631 val_loss 0.663 val_auc_score 0.693\n",
      "----End of step 0:00:55.927328\n",
      "train_loss 0.614 val_loss 0.623 val_auc_score 0.735\n",
      "----End of step 0:00:56.557956\n",
      "train_loss 0.593 val_loss 0.628 val_auc_score 0.743\n",
      "----End of step 0:00:55.797121\n",
      "train_loss 0.576 val_loss 0.613 val_auc_score 0.776\n",
      "----End of step 0:00:56.277180\n",
      "train_loss 0.563 val_loss 0.573 val_auc_score 0.788\n",
      "----End of step 0:00:57.849041\n",
      "train_loss 0.551 val_loss 0.593 val_auc_score 0.769\n",
      "----End of step 0:00:56.977960\n",
      "train_loss 0.541 val_loss 0.562 val_auc_score 0.801\n",
      "----End of step 0:00:58.590814\n",
      "train_loss 0.535 val_loss 0.553 val_auc_score 0.802\n",
      "----End of step 0:00:57.904521\n",
      "train_loss 0.530 val_loss 0.552 val_auc_score 0.811\n",
      "----End of step 0:00:56.151055\n",
      "\n",
      "width multiplier - 1.000 depth multiplier - 6.000\n",
      "train_loss 0.676 val_loss 0.909 val_auc_score 0.501\n",
      "----End of step 0:01:01.467149\n",
      "train_loss 0.664 val_loss 0.715 val_auc_score 0.572\n",
      "----End of step 0:01:00.331525\n",
      "train_loss 0.664 val_loss 0.693 val_auc_score 0.557\n",
      "----End of step 0:01:01.584615\n",
      "train_loss 0.658 val_loss 0.714 val_auc_score 0.631\n",
      "----End of step 0:01:00.335194\n",
      "train_loss 0.652 val_loss 0.698 val_auc_score 0.617\n",
      "----End of step 0:00:59.353070\n",
      "train_loss 0.640 val_loss 0.680 val_auc_score 0.663\n",
      "----End of step 0:01:00.395878\n",
      "train_loss 0.620 val_loss 0.644 val_auc_score 0.714\n",
      "----End of step 0:01:00.241808\n",
      "train_loss 0.597 val_loss 0.612 val_auc_score 0.730\n",
      "----End of step 0:01:00.755223\n",
      "train_loss 0.581 val_loss 0.636 val_auc_score 0.759\n",
      "----End of step 0:00:59.436148\n",
      "train_loss 0.567 val_loss 0.615 val_auc_score 0.765\n",
      "----End of step 0:01:00.339681\n",
      "train_loss 0.558 val_loss 0.590 val_auc_score 0.779\n",
      "----End of step 0:00:59.882650\n",
      "train_loss 0.545 val_loss 0.588 val_auc_score 0.795\n",
      "----End of step 0:00:59.594288\n",
      "train_loss 0.536 val_loss 0.572 val_auc_score 0.804\n",
      "----End of step 0:01:00.660894\n",
      "train_loss 0.528 val_loss 0.560 val_auc_score 0.811\n",
      "----End of step 0:01:01.288709\n",
      "train_loss 0.525 val_loss 0.555 val_auc_score 0.811\n",
      "----End of step 0:01:00.122569\n",
      "\n",
      "width multiplier - 1.000 depth multiplier - 5.000\n",
      "train_loss 0.682 val_loss 0.721 val_auc_score 0.581\n",
      "----End of step 0:00:52.786281\n",
      "train_loss 0.671 val_loss 0.705 val_auc_score 0.560\n",
      "----End of step 0:00:52.940003\n",
      "train_loss 0.674 val_loss 0.693 val_auc_score 0.557\n",
      "----End of step 0:00:53.196990\n",
      "train_loss 0.670 val_loss 0.698 val_auc_score 0.598\n",
      "----End of step 0:00:53.514753\n",
      "train_loss 0.665 val_loss 0.701 val_auc_score 0.584\n",
      "----End of step 0:00:52.546797\n"
     ]
    }
   ],
   "source": [
    "data = []\n",
    "\n",
    "for w in widths:\n",
    "    for d in depths:\n",
    "        d_s = sum(j[1] for i in d for j in i)\n",
    "        print('width multiplier - %.3f depth multiplier - %.3f' % (w, d_s))\n",
    "        model = resnet18(width_mult=w, \n",
    "                         inverted_residual_setting1=d[0], \n",
    "                         inverted_residual_setting2=d[1]).cuda()\n",
    "        \n",
    "        p = sum(p.numel() for p in model.parameters())\n",
    "        optimizer = create_optimizer(model, 0.02)\n",
    "        score, t = train_triangular_policy(model, optimizer, train_loader, valid_loader, valid_dataset,\n",
    "                                           loss_fn=F.binary_cross_entropy_with_logits, \n",
    "                                           dataset='mura', binary=True, max_lr=0.02, epochs=15)\n",
    "        \n",
    "        p = \"/home/rimmanni/Medical_Images/Scaling_experiments/Mura/Resnet_\" + str(w) + '_' + str(depths.index(d))\n",
    "        save_model(model, p)\n",
    "        data.append([w, d_s, score, p, t])\n",
    "        print('')"
   ]
  },
  {
   "cell_type": "code",
   "execution_count": null,
   "metadata": {},
   "outputs": [],
   "source": [
    "columns = ['width_x', 'depth_x', 'val_score', 'params', 'time_per_epoch']\n",
    "df = pd.DataFrame(data=data, columns=columns)"
   ]
  },
  {
   "cell_type": "code",
   "execution_count": null,
   "metadata": {},
   "outputs": [],
   "source": [
    "df.to_csv(\"mura_resnet_13.csv\", index=False)"
   ]
  },
  {
   "cell_type": "code",
   "execution_count": null,
   "metadata": {},
   "outputs": [],
   "source": [
    "df_re = pd.read_csv('mura_resnet_13.csv')"
   ]
  },
  {
   "cell_type": "code",
   "execution_count": null,
   "metadata": {},
   "outputs": [],
   "source": [
    "df_re.head()"
   ]
  },
  {
   "cell_type": "code",
   "execution_count": null,
   "metadata": {},
   "outputs": [],
   "source": []
  }
 ],
 "metadata": {
  "kernelspec": {
   "display_name": "Python 3",
   "language": "python",
   "name": "python3"
  },
  "language_info": {
   "codemirror_mode": {
    "name": "ipython",
    "version": 3
   },
   "file_extension": ".py",
   "mimetype": "text/x-python",
   "name": "python",
   "nbconvert_exporter": "python",
   "pygments_lexer": "ipython3",
   "version": "3.7.4"
  }
 },
 "nbformat": 4,
 "nbformat_minor": 2
}
