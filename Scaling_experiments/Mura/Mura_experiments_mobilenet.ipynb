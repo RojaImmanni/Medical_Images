{
 "cells": [
  {
   "cell_type": "code",
   "execution_count": 1,
   "metadata": {},
   "outputs": [
    {
     "name": "stdout",
     "output_type": "stream",
     "text": [
      "3\n"
     ]
    }
   ],
   "source": [
    "import torch\n",
    "torch.cuda.set_device(3)\n",
    "print(torch.cuda.current_device())"
   ]
  },
  {
   "cell_type": "code",
   "execution_count": 2,
   "metadata": {},
   "outputs": [],
   "source": [
    "%run ../../prepare_data.py\n",
    "%run ../../architectures.py"
   ]
  },
  {
   "cell_type": "code",
   "execution_count": 3,
   "metadata": {},
   "outputs": [],
   "source": [
    "batch_size = 32"
   ]
  },
  {
   "cell_type": "code",
   "execution_count": 4,
   "metadata": {},
   "outputs": [],
   "source": [
    "train_loader, valid_loader, valid_dataset = mura_dataloaders(batch_size)"
   ]
  },
  {
   "cell_type": "code",
   "execution_count": 5,
   "metadata": {},
   "outputs": [],
   "source": [
    "x, y = next(iter(train_loader))"
   ]
  },
  {
   "cell_type": "code",
   "execution_count": 6,
   "metadata": {},
   "outputs": [
    {
     "data": {
      "text/plain": [
       "(torch.Size([32, 3, 250, 200]), torch.Size([32]))"
      ]
     },
     "execution_count": 6,
     "metadata": {},
     "output_type": "execute_result"
    }
   ],
   "source": [
    "x.shape, y.shape"
   ]
  },
  {
   "cell_type": "code",
   "execution_count": 7,
   "metadata": {},
   "outputs": [],
   "source": [
    "model = MobileNet(width_mult=1.0, depth_mult=1.0).cuda()"
   ]
  },
  {
   "cell_type": "code",
   "execution_count": 8,
   "metadata": {},
   "outputs": [
    {
     "data": {
      "text/plain": [
       "2225153"
      ]
     },
     "execution_count": 8,
     "metadata": {},
     "output_type": "execute_result"
    }
   ],
   "source": [
    "sum(p.numel() for p in model.parameters())"
   ]
  },
  {
   "cell_type": "code",
   "execution_count": 9,
   "metadata": {},
   "outputs": [
    {
     "name": "stdout",
     "output_type": "stream",
     "text": [
      "CPU times: user 1min 16s, sys: 5.37 s, total: 1min 22s\n",
      "Wall time: 1min 22s\n"
     ]
    },
    {
     "data": {
      "image/png": "[encoded data removed]",
      "text/plain": [
       "<Figure size 432x288 with 1 Axes>"
      ]
     },
     "metadata": {
      "needs_background": "light"
     },
     "output_type": "display_data"
    }
   ],
   "source": [
    "%%time\n",
    "lrs, losses = LR_range_finder(model, train_loader, \n",
    "                              loss_fn=F.binary_cross_entropy_with_logits, \n",
    "                              binary=True, lr_high=0.05)\n",
    "plot_lr(lrs, losses)"
   ]
  },
  {
   "cell_type": "markdown",
   "metadata": {},
   "source": [
    "# Training"
   ]
  },
  {
   "cell_type": "code",
   "execution_count": 9,
   "metadata": {},
   "outputs": [],
   "source": [
    "widths = [1.0, 0.75, 0.5, 0.25]\n",
    "depths = [1.0, 0.7, 0.6, 0.5, 0.3, 0.2]"
   ]
  },
  {
   "cell_type": "code",
   "execution_count": null,
   "metadata": {},
   "outputs": [
    {
     "name": "stdout",
     "output_type": "stream",
     "text": [
      "width multiplier - 1.000 depth multiplier - 1.000\n",
      "train_loss 0.677 val_loss 0.688 val_auc_score 0.629\n",
      "----End of step 0:01:31.101449\n",
      "train_loss 0.665 val_loss 0.695 val_auc_score 0.587\n",
      "----End of step 0:01:28.879339\n",
      "train_loss 0.654 val_loss 0.672 val_auc_score 0.662\n",
      "----End of step 0:01:32.982576\n",
      "train_loss 0.642 val_loss 0.699 val_auc_score 0.660\n",
      "----End of step 0:01:36.503424\n",
      "train_loss 0.613 val_loss 0.683 val_auc_score 0.691\n",
      "----End of step 0:01:34.066646\n",
      "train_loss 0.592 val_loss 0.642 val_auc_score 0.755\n",
      "----End of step 0:01:45.187480\n",
      "train_loss 0.580 val_loss 0.617 val_auc_score 0.775\n",
      "----End of step 0:01:44.730340\n",
      "train_loss 0.567 val_loss 0.578 val_auc_score 0.782\n",
      "----End of step 0:01:43.504541\n",
      "train_loss 0.555 val_loss 0.591 val_auc_score 0.775\n",
      "----End of step 0:01:41.785686\n",
      "train_loss 0.546 val_loss 0.598 val_auc_score 0.803\n",
      "----End of step 0:01:43.812738\n",
      "train_loss 0.533 val_loss 0.551 val_auc_score 0.820\n",
      "----End of step 0:01:45.447287\n",
      "train_loss 0.521 val_loss 0.542 val_auc_score 0.824\n",
      "----End of step 0:01:35.644343\n",
      "train_loss 0.513 val_loss 0.556 val_auc_score 0.832\n",
      "----End of step 0:01:39.693068\n",
      "train_loss 0.508 val_loss 0.528 val_auc_score 0.834\n",
      "----End of step 0:01:44.904989\n",
      "train_loss 0.503 val_loss 0.522 val_auc_score 0.835\n",
      "----End of step 0:01:40.192972\n",
      "\n",
      "width multiplier - 1.000 depth multiplier - 0.700\n",
      "train_loss 0.676 val_loss 0.704 val_auc_score 0.567\n",
      "----End of step 0:01:36.590808\n",
      "train_loss 0.668 val_loss 0.698 val_auc_score 0.576\n",
      "----End of step 0:01:40.087911\n",
      "train_loss 0.669 val_loss 0.749 val_auc_score 0.592\n",
      "----End of step 0:01:35.635025\n",
      "train_loss 0.661 val_loss 0.683 val_auc_score 0.592\n",
      "----End of step 0:01:35.298037\n",
      "train_loss 0.660 val_loss 0.683 val_auc_score 0.625\n",
      "----End of step 0:01:33.028718\n",
      "train_loss 0.658 val_loss 0.677 val_auc_score 0.653\n",
      "----End of step 0:01:35.532095\n",
      "train_loss 0.642 val_loss 0.685 val_auc_score 0.715\n",
      "----End of step 0:01:32.779024\n",
      "train_loss 0.616 val_loss 0.625 val_auc_score 0.725\n",
      "----End of step 0:01:32.392132\n",
      "train_loss 0.593 val_loss 0.595 val_auc_score 0.768\n",
      "----End of step 0:01:37.777990\n",
      "train_loss 0.575 val_loss 0.580 val_auc_score 0.783\n",
      "----End of step 0:01:41.968963\n",
      "train_loss 0.561 val_loss 0.581 val_auc_score 0.790\n",
      "----End of step 0:01:36.200061\n",
      "train_loss 0.549 val_loss 0.562 val_auc_score 0.812\n",
      "----End of step 0:01:38.308648\n",
      "train_loss 0.538 val_loss 0.564 val_auc_score 0.819\n",
      "----End of step 0:01:39.451665\n",
      "train_loss 0.532 val_loss 0.562 val_auc_score 0.824\n",
      "----End of step 0:01:38.662312\n",
      "train_loss 0.527 val_loss 0.546 val_auc_score 0.825\n",
      "----End of step 0:01:46.767910\n",
      "\n",
      "width multiplier - 1.000 depth multiplier - 0.600\n",
      "train_loss 0.675 val_loss 0.696 val_auc_score 0.629\n",
      "----End of step 0:01:24.287691\n",
      "train_loss 0.654 val_loss 0.691 val_auc_score 0.660\n",
      "----End of step 0:01:25.270423\n",
      "train_loss 0.636 val_loss 0.635 val_auc_score 0.693\n",
      "----End of step 0:01:24.725736\n",
      "train_loss 0.607 val_loss 0.633 val_auc_score 0.717\n",
      "----End of step 0:01:23.679096\n",
      "train_loss 0.583 val_loss 0.608 val_auc_score 0.750\n",
      "----End of step 0:01:24.541106\n",
      "train_loss 0.574 val_loss 0.635 val_auc_score 0.769\n",
      "----End of step 0:01:24.687736\n",
      "train_loss 0.564 val_loss 0.628 val_auc_score 0.757\n",
      "----End of step 0:01:23.617214\n",
      "train_loss 0.551 val_loss 0.582 val_auc_score 0.791\n",
      "----End of step 0:01:24.805302\n",
      "train_loss 0.540 val_loss 0.639 val_auc_score 0.794\n",
      "----End of step 0:01:24.696133\n"
     ]
    }
   ],
   "source": [
    "data = []\n",
    "\n",
    "for w in widths:\n",
    "    for d in depths:\n",
    "        print('width multiplier - %.3f depth multiplier - %.3f' % (w, d))\n",
    "        model = MobileNet(width_mult=w, depth_mult=d).cuda()\n",
    "        p = sum(p.numel() for p in model.parameters())\n",
    "        optimizer = create_optimizer(model, 0.02)\n",
    "        score, t = train_triangular_policy(model, optimizer, train_loader, valid_loader, valid_dataset,\n",
    "                                           loss_fn=F.binary_cross_entropy_with_logits, \n",
    "                                           dataset='mura', binary=True, max_lr=0.02, epochs=15)\n",
    "        \n",
    "        p = \"/home/rimmanni/Medical_Images/Scaling_experiments/Mura/Mobile_\" + str(w) + '_' + str(d)\n",
    "        save_model(model, p)\n",
    "        data.append([w, d, score, p, t])\n",
    "        print('')"
   ]
  },
  {
   "cell_type": "code",
   "execution_count": null,
   "metadata": {},
   "outputs": [],
   "source": [
    "columns = ['width_x', 'depth_x', 'val_score', 'params', 'time_per_epoch']\n",
    "df = pd.DataFrame(data=data, columns=columns)"
   ]
  },
  {
   "cell_type": "code",
   "execution_count": null,
   "metadata": {},
   "outputs": [],
   "source": [
    "df.to_csv(\"mura_mobilenet_13.csv\", index=False)"
   ]
  },
  {
   "cell_type": "code",
   "execution_count": null,
   "metadata": {},
   "outputs": [],
   "source": [
    "df_re = pd.read_csv('mura_mobilenet_13.csv')"
   ]
  },
  {
   "cell_type": "code",
   "execution_count": null,
   "metadata": {},
   "outputs": [],
   "source": [
    "df_re.head()"
   ]
  },
  {
   "cell_type": "code",
   "execution_count": null,
   "metadata": {},
   "outputs": [],
   "source": []
  }
 ],
 "metadata": {
  "kernelspec": {
   "display_name": "Python 3",
   "language": "python",
   "name": "python3"
  },
  "language_info": {
   "codemirror_mode": {
    "name": "ipython",
    "version": 3
   },
   "file_extension": ".py",
   "mimetype": "text/x-python",
   "name": "python",
   "nbconvert_exporter": "python",
   "pygments_lexer": "ipython3",
   "version": "3.7.4"
  }
 },
 "nbformat": 4,
 "nbformat_minor": 2
}
