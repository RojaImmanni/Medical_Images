{
 "cells": [
  {
   "cell_type": "code",
   "execution_count": 1,
   "metadata": {},
   "outputs": [
    {
     "name": "stdout",
     "output_type": "stream",
     "text": [
      "6\n"
     ]
    }
   ],
   "source": [
    "import torch\n",
    "torch.cuda.set_device(6)\n",
    "print(torch.cuda.current_device())"
   ]
  },
  {
   "cell_type": "code",
   "execution_count": 2,
   "metadata": {},
   "outputs": [],
   "source": [
    "%run ../../prepare_data.py\n",
    "%run ../../architectures.py"
   ]
  },
  {
   "cell_type": "code",
   "execution_count": 3,
   "metadata": {},
   "outputs": [],
   "source": [
    "batch_size = 32"
   ]
  },
  {
   "cell_type": "code",
   "execution_count": 4,
   "metadata": {},
   "outputs": [],
   "source": [
    "train_loader, valid_loader, valid_dataset = get_chexpert_dataloaders(batch_size)"
   ]
  },
  {
   "cell_type": "code",
   "execution_count": 5,
   "metadata": {},
   "outputs": [],
   "source": [
    "x, y = next(iter(train_loader))"
   ]
  },
  {
   "cell_type": "code",
   "execution_count": 6,
   "metadata": {},
   "outputs": [
    {
     "data": {
      "text/plain": [
       "(torch.Size([32, 3, 256, 256]), torch.Size([32, 5]))"
      ]
     },
     "execution_count": 6,
     "metadata": {},
     "output_type": "execute_result"
    }
   ],
   "source": [
    "x.shape, y.shape"
   ]
  },
  {
   "cell_type": "code",
   "execution_count": 7,
   "metadata": {},
   "outputs": [],
   "source": [
    "model = MobileNet(num_classes=5, width_mult=1.0, depth_mult=1.0).cuda()"
   ]
  },
  {
   "cell_type": "code",
   "execution_count": 8,
   "metadata": {},
   "outputs": [
    {
     "data": {
      "text/plain": [
       "2230277"
      ]
     },
     "execution_count": 8,
     "metadata": {},
     "output_type": "execute_result"
    }
   ],
   "source": [
    "sum(p.numel() for p in model.parameters())"
   ]
  },
  {
   "cell_type": "code",
   "execution_count": 9,
   "metadata": {},
   "outputs": [
    {
     "name": "stdout",
     "output_type": "stream",
     "text": [
      "CPU times: user 1min 26s, sys: 8.38 s, total: 1min 34s\n",
      "Wall time: 1min 35s\n"
     ]
    },
    {
     "data": {
      "image/png": "[encoded data removed]",
      "text/plain": [
       "<Figure size 432x288 with 1 Axes>"
      ]
     },
     "metadata": {
      "needs_background": "light"
     },
     "output_type": "display_data"
    }
   ],
   "source": [
    "%%time\n",
    "lrs, losses = LR_range_finder(model, train_loader, \n",
    "                              loss_fn=F.binary_cross_entropy_with_logits, \n",
    "                              binary=False, lr_high=0.05)\n",
    "plot_lr(lrs, losses)"
   ]
  },
  {
   "cell_type": "markdown",
   "metadata": {},
   "source": [
    "# Training"
   ]
  },
  {
   "cell_type": "code",
   "execution_count": 11,
   "metadata": {},
   "outputs": [],
   "source": [
    "widths = [1.0, 0.75, 0.5, 0.25]\n",
    "depths = [1.0, 0.7, 0.6, 0.5, 0.3, 0.2]"
   ]
  },
  {
   "cell_type": "code",
   "execution_count": 13,
   "metadata": {},
   "outputs": [
    {
     "name": "stdout",
     "output_type": "stream",
     "text": [
      "width multiplier - 1.000 depth multiplier - 1.000\n",
      "train_loss 0.427 val_loss 0.435 val_auc_score 0.569\n",
      "----End of step 0:01:44.103960\n",
      "train_loss 0.420 val_loss 0.424 val_auc_score 0.611\n",
      "----End of step 0:01:44.294860\n",
      "train_loss 0.413 val_loss 0.420 val_auc_score 0.630\n",
      "----End of step 0:01:44.873700\n",
      "train_loss 0.406 val_loss 0.416 val_auc_score 0.633\n",
      "----End of step 0:01:45.652851\n",
      "train_loss 0.400 val_loss 0.418 val_auc_score 0.645\n",
      "----End of step 0:01:45.445690\n",
      "train_loss 0.395 val_loss 0.411 val_auc_score 0.659\n",
      "----End of step 0:01:45.237801\n",
      "train_loss 0.390 val_loss 0.414 val_auc_score 0.649\n",
      "----End of step 0:01:45.163446\n",
      "train_loss 0.386 val_loss 0.409 val_auc_score 0.655\n",
      "----End of step 0:01:45.195314\n",
      "train_loss 0.382 val_loss 0.397 val_auc_score 0.687\n",
      "----End of step 0:01:45.326736\n",
      "train_loss 0.378 val_loss 0.397 val_auc_score 0.685\n",
      "----End of step 0:01:45.162718\n",
      "train_loss 0.376 val_loss 0.392 val_auc_score 0.692\n",
      "----End of step 0:01:45.663486\n",
      "train_loss 0.373 val_loss 0.394 val_auc_score 0.690\n",
      "----End of step 0:01:45.621374\n",
      "train_loss 0.371 val_loss 0.391 val_auc_score 0.697\n",
      "----End of step 0:01:47.758128\n",
      "train_loss 0.370 val_loss 0.391 val_auc_score 0.697\n",
      "----End of step 0:01:46.352399\n",
      "train_loss 0.369 val_loss 0.391 val_auc_score 0.697\n",
      "----End of step 0:01:46.164389\n",
      "\n",
      "width multiplier - 0.750 depth multiplier - 1.000\n",
      "train_loss 0.430 val_loss 0.440 val_auc_score 0.564\n",
      "----End of step 0:01:44.569184\n",
      "train_loss 0.420 val_loss 0.426 val_auc_score 0.605\n",
      "----End of step 0:01:42.818115\n",
      "train_loss 0.414 val_loss 0.428 val_auc_score 0.606\n",
      "----End of step 0:01:46.110706\n",
      "train_loss 0.409 val_loss 0.419 val_auc_score 0.633\n",
      "----End of step 0:01:43.100173\n",
      "train_loss 0.403 val_loss 0.418 val_auc_score 0.650\n",
      "----End of step 0:01:47.462976\n",
      "train_loss 0.399 val_loss 0.410 val_auc_score 0.659\n",
      "----End of step 0:01:44.674238\n",
      "train_loss 0.394 val_loss 0.407 val_auc_score 0.661\n",
      "----End of step 0:01:48.867281\n",
      "train_loss 0.391 val_loss 0.404 val_auc_score 0.671\n",
      "----End of step 0:01:41.547098\n",
      "train_loss 0.387 val_loss 0.406 val_auc_score 0.674\n",
      "----End of step 0:01:46.082002\n",
      "train_loss 0.384 val_loss 0.404 val_auc_score 0.668\n",
      "----End of step 0:01:44.178839\n",
      "train_loss 0.381 val_loss 0.399 val_auc_score 0.681\n",
      "----End of step 0:01:44.359047\n",
      "train_loss 0.379 val_loss 0.396 val_auc_score 0.689\n",
      "----End of step 0:01:44.294341\n",
      "train_loss 0.377 val_loss 0.398 val_auc_score 0.685\n",
      "----End of step 0:01:45.114411\n",
      "train_loss 0.375 val_loss 0.395 val_auc_score 0.689\n",
      "----End of step 0:01:43.035791\n",
      "train_loss 0.374 val_loss 0.396 val_auc_score 0.689\n",
      "----End of step 0:01:43.174532\n",
      "\n",
      "width multiplier - 0.500 depth multiplier - 1.000\n",
      "train_loss 0.427 val_loss 0.433 val_auc_score 0.579\n",
      "----End of step 0:01:42.895144\n",
      "train_loss 0.420 val_loss 0.433 val_auc_score 0.598\n",
      "----End of step 0:01:43.147689\n",
      "train_loss 0.416 val_loss 0.427 val_auc_score 0.617\n",
      "----End of step 0:01:46.164656\n",
      "train_loss 0.409 val_loss 0.422 val_auc_score 0.611\n",
      "----End of step 0:01:44.600322\n",
      "train_loss 0.403 val_loss 0.421 val_auc_score 0.640\n",
      "----End of step 0:01:46.219238\n",
      "train_loss 0.400 val_loss 0.413 val_auc_score 0.644\n",
      "----End of step 0:01:43.839204\n",
      "train_loss 0.396 val_loss 0.414 val_auc_score 0.652\n",
      "----End of step 0:01:44.680530\n",
      "train_loss 0.392 val_loss 0.408 val_auc_score 0.654\n",
      "----End of step 0:01:47.716249\n",
      "train_loss 0.390 val_loss 0.406 val_auc_score 0.657\n",
      "----End of step 0:01:46.185556\n",
      "train_loss 0.387 val_loss 0.417 val_auc_score 0.646\n",
      "----End of step 0:01:44.718313\n",
      "train_loss 0.385 val_loss 0.407 val_auc_score 0.662\n",
      "----End of step 0:01:43.554633\n",
      "train_loss 0.383 val_loss 0.402 val_auc_score 0.674\n",
      "----End of step 0:01:44.161145\n",
      "train_loss 0.381 val_loss 0.403 val_auc_score 0.669\n",
      "----End of step 0:01:44.622862\n",
      "train_loss 0.381 val_loss 0.403 val_auc_score 0.671\n",
      "----End of step 0:01:43.443204\n",
      "train_loss 0.380 val_loss 0.404 val_auc_score 0.670\n",
      "----End of step 0:01:45.417707\n",
      "\n",
      "width multiplier - 0.250 depth multiplier - 1.000\n",
      "train_loss 0.430 val_loss 0.438 val_auc_score 0.543\n",
      "----End of step 0:01:43.644947\n",
      "train_loss 0.428 val_loss 0.438 val_auc_score 0.566\n",
      "----End of step 0:01:44.133509\n",
      "train_loss 0.426 val_loss 0.437 val_auc_score 0.580\n",
      "----End of step 0:01:43.140630\n",
      "train_loss 0.420 val_loss 0.437 val_auc_score 0.588\n",
      "----End of step 0:01:42.560319\n",
      "train_loss 0.416 val_loss 0.425 val_auc_score 0.609\n",
      "----End of step 0:01:43.054327\n",
      "train_loss 0.412 val_loss 0.424 val_auc_score 0.618\n",
      "----End of step 0:01:42.867230\n",
      "train_loss 0.409 val_loss 0.424 val_auc_score 0.626\n",
      "----End of step 0:01:48.925002\n",
      "train_loss 0.406 val_loss 0.424 val_auc_score 0.632\n",
      "----End of step 0:01:43.884069\n",
      "train_loss 0.403 val_loss 0.417 val_auc_score 0.635\n",
      "----End of step 0:01:44.848252\n",
      "train_loss 0.401 val_loss 0.416 val_auc_score 0.644\n",
      "----End of step 0:01:45.859662\n",
      "train_loss 0.399 val_loss 0.415 val_auc_score 0.645\n",
      "----End of step 0:01:45.033280\n",
      "train_loss 0.398 val_loss 0.413 val_auc_score 0.647\n",
      "----End of step 0:01:43.182525\n",
      "train_loss 0.397 val_loss 0.413 val_auc_score 0.648\n",
      "----End of step 0:01:45.519096\n",
      "train_loss 0.396 val_loss 0.413 val_auc_score 0.650\n",
      "----End of step 0:01:43.201886\n",
      "train_loss 0.396 val_loss 0.413 val_auc_score 0.650\n",
      "----End of step 0:01:45.232095\n",
      "\n"
     ]
    }
   ],
   "source": [
    "data = []\n",
    "d = 1.0\n",
    "\n",
    "for w in widths:\n",
    "#     for d in depths:\n",
    "    print('width multiplier - %.3f depth multiplier - %.3f' % (w, d))\n",
    "    model = MobileNet(num_classes=5,width_mult=w, depth_mult=d).cuda()\n",
    "    p = sum(p.numel() for p in model.parameters())\n",
    "    optimizer = create_optimizer(model, 0.001)\n",
    "    score, t = train_triangular_policy(model, optimizer, train_loader, valid_loader, valid_dataset,\n",
    "                                       loss_fn=F.binary_cross_entropy_with_logits, \n",
    "                                       dataset='chexpert', binary=False, max_lr=0.001, epochs=15)\n",
    "    data.append([w, d, score, p, t])\n",
    "    print('')"
   ]
  },
  {
   "cell_type": "code",
   "execution_count": 19,
   "metadata": {},
   "outputs": [
    {
     "data": {
      "text/plain": [
       "[[1.0,\n",
       "  1.0,\n",
       "  0.6971991207952705,\n",
       "  2230277,\n",
       "  datetime.timedelta(seconds=106, microseconds=164389)],\n",
       " [0.75,\n",
       "  1.0,\n",
       "  0.6886364433978219,\n",
       "  1353373,\n",
       "  datetime.timedelta(seconds=103, microseconds=174532)],\n",
       " [0.5,\n",
       "  1.0,\n",
       "  0.6702295864375458,\n",
       "  690853,\n",
       "  datetime.timedelta(seconds=105, microseconds=417707)],\n",
       " [0.25,\n",
       "  1.0,\n",
       "  0.6500565009921415,\n",
       "  242717,\n",
       "  datetime.timedelta(seconds=105, microseconds=232095)]]"
      ]
     },
     "execution_count": 19,
     "metadata": {},
     "output_type": "execute_result"
    }
   ],
   "source": [
    "data"
   ]
  },
  {
   "cell_type": "code",
   "execution_count": 20,
   "metadata": {},
   "outputs": [
    {
     "name": "stdout",
     "output_type": "stream",
     "text": [
      "width multiplier - 1.000 depth multiplier - 0.700\n",
      "train_loss 0.427 val_loss 0.438 val_auc_score 0.577\n",
      "----End of step 0:01:40.933116\n",
      "train_loss 0.416 val_loss 0.428 val_auc_score 0.611\n",
      "----End of step 0:01:41.279703\n",
      "train_loss 0.410 val_loss 0.424 val_auc_score 0.625\n",
      "----End of step 0:01:43.538065\n",
      "train_loss 0.405 val_loss 0.415 val_auc_score 0.640\n",
      "----End of step 0:01:42.085308\n",
      "train_loss 0.399 val_loss 0.410 val_auc_score 0.657\n",
      "----End of step 0:01:44.114330\n",
      "train_loss 0.394 val_loss 0.408 val_auc_score 0.663\n",
      "----End of step 0:01:43.446975\n",
      "train_loss 0.390 val_loss 0.406 val_auc_score 0.659\n",
      "----End of step 0:01:43.677292\n",
      "train_loss 0.386 val_loss 0.405 val_auc_score 0.671\n",
      "----End of step 0:01:44.038716\n",
      "train_loss 0.382 val_loss 0.401 val_auc_score 0.678\n",
      "----End of step 0:01:45.801393\n",
      "train_loss 0.378 val_loss 0.394 val_auc_score 0.691\n",
      "----End of step 0:01:49.139231\n",
      "train_loss 0.376 val_loss 0.397 val_auc_score 0.690\n",
      "----End of step 0:01:52.244221\n",
      "train_loss 0.374 val_loss 0.393 val_auc_score 0.691\n",
      "----End of step 0:01:55.345061\n",
      "train_loss 0.372 val_loss 0.392 val_auc_score 0.697\n",
      "----End of step 0:01:54.395514\n",
      "train_loss 0.370 val_loss 0.393 val_auc_score 0.696\n",
      "----End of step 0:01:52.945878\n",
      "train_loss 0.370 val_loss 0.392 val_auc_score 0.697\n",
      "----End of step 0:01:54.469143\n",
      "\n",
      "width multiplier - 0.750 depth multiplier - 0.700\n",
      "train_loss 0.429 val_loss 0.446 val_auc_score 0.569\n",
      "----End of step 0:01:52.071797\n",
      "train_loss 0.420 val_loss 0.428 val_auc_score 0.604\n",
      "----End of step 0:01:56.434270\n",
      "train_loss 0.414 val_loss 0.425 val_auc_score 0.610\n",
      "----End of step 0:01:50.083994\n",
      "train_loss 0.408 val_loss 0.420 val_auc_score 0.631\n",
      "----End of step 0:01:43.865855\n",
      "train_loss 0.402 val_loss 0.414 val_auc_score 0.648\n",
      "----End of step 0:01:46.206683\n",
      "train_loss 0.396 val_loss 0.408 val_auc_score 0.661\n",
      "----End of step 0:01:45.954070\n",
      "train_loss 0.392 val_loss 0.407 val_auc_score 0.670\n",
      "----End of step 0:01:47.721759\n",
      "train_loss 0.388 val_loss 0.403 val_auc_score 0.671\n",
      "----End of step 0:01:46.302842\n",
      "train_loss 0.384 val_loss 0.406 val_auc_score 0.671\n",
      "----End of step 0:01:46.682532\n",
      "train_loss 0.382 val_loss 0.403 val_auc_score 0.678\n",
      "----End of step 0:01:42.763944\n",
      "train_loss 0.380 val_loss 0.399 val_auc_score 0.683\n",
      "----End of step 0:01:44.582860\n",
      "train_loss 0.377 val_loss 0.398 val_auc_score 0.684\n",
      "----End of step 0:01:45.028596\n",
      "train_loss 0.375 val_loss 0.396 val_auc_score 0.686\n",
      "----End of step 0:01:47.666247\n",
      "train_loss 0.374 val_loss 0.394 val_auc_score 0.689\n",
      "----End of step 0:01:46.432551\n",
      "train_loss 0.374 val_loss 0.394 val_auc_score 0.689\n",
      "----End of step 0:01:45.626181\n",
      "\n",
      "width multiplier - 0.500 depth multiplier - 0.700\n",
      "train_loss 0.430 val_loss 0.441 val_auc_score 0.546\n",
      "----End of step 0:01:46.254622\n",
      "train_loss 0.423 val_loss 0.448 val_auc_score 0.588\n",
      "----End of step 0:01:44.859914\n",
      "train_loss 0.418 val_loss 0.430 val_auc_score 0.597\n",
      "----End of step 0:01:47.508653\n",
      "train_loss 0.410 val_loss 0.422 val_auc_score 0.623\n",
      "----End of step 0:01:44.757391\n",
      "train_loss 0.406 val_loss 0.417 val_auc_score 0.635\n",
      "----End of step 0:01:45.458162\n",
      "train_loss 0.402 val_loss 0.417 val_auc_score 0.640\n",
      "----End of step 0:01:46.695910\n",
      "train_loss 0.398 val_loss 0.416 val_auc_score 0.657\n",
      "----End of step 0:01:45.182848\n",
      "train_loss 0.394 val_loss 0.416 val_auc_score 0.657\n",
      "----End of step 0:01:47.147802\n",
      "train_loss 0.391 val_loss 0.412 val_auc_score 0.666\n",
      "----End of step 0:01:45.439676\n",
      "train_loss 0.388 val_loss 0.406 val_auc_score 0.666\n",
      "----End of step 0:01:47.004568\n",
      "train_loss 0.386 val_loss 0.407 val_auc_score 0.671\n",
      "----End of step 0:01:46.474129\n",
      "train_loss 0.383 val_loss 0.403 val_auc_score 0.676\n",
      "----End of step 0:01:46.046390\n",
      "train_loss 0.382 val_loss 0.406 val_auc_score 0.675\n",
      "----End of step 0:01:48.805072\n",
      "train_loss 0.381 val_loss 0.404 val_auc_score 0.676\n",
      "----End of step 0:01:45.297170\n",
      "train_loss 0.380 val_loss 0.404 val_auc_score 0.676\n",
      "----End of step 0:01:47.715770\n",
      "\n",
      "width multiplier - 0.250 depth multiplier - 0.700\n",
      "train_loss 0.429 val_loss 0.436 val_auc_score 0.558\n",
      "----End of step 0:01:47.893970\n",
      "train_loss 0.425 val_loss 0.434 val_auc_score 0.574\n",
      "----End of step 0:01:46.449684\n",
      "train_loss 0.422 val_loss 0.432 val_auc_score 0.593\n",
      "----End of step 0:01:44.875743\n",
      "train_loss 0.417 val_loss 0.432 val_auc_score 0.600\n",
      "----End of step 0:01:45.267066\n",
      "train_loss 0.413 val_loss 0.427 val_auc_score 0.611\n",
      "----End of step 0:01:46.309215\n",
      "train_loss 0.411 val_loss 0.423 val_auc_score 0.620\n",
      "----End of step 0:01:47.414960\n",
      "train_loss 0.409 val_loss 0.419 val_auc_score 0.628\n",
      "----End of step 0:01:44.538209\n",
      "train_loss 0.406 val_loss 0.418 val_auc_score 0.637\n",
      "----End of step 0:01:43.819701\n",
      "train_loss 0.404 val_loss 0.414 val_auc_score 0.642\n",
      "----End of step 0:01:47.590434\n",
      "train_loss 0.402 val_loss 0.413 val_auc_score 0.648\n",
      "----End of step 0:01:48.733012\n",
      "train_loss 0.400 val_loss 0.412 val_auc_score 0.651\n",
      "----End of step 0:01:44.285871\n",
      "train_loss 0.398 val_loss 0.411 val_auc_score 0.653\n",
      "----End of step 0:01:47.092630\n",
      "train_loss 0.397 val_loss 0.411 val_auc_score 0.653\n",
      "----End of step 0:01:44.205922\n",
      "train_loss 0.396 val_loss 0.411 val_auc_score 0.653\n",
      "----End of step 0:01:44.846774\n",
      "train_loss 0.396 val_loss 0.410 val_auc_score 0.653\n",
      "----End of step 0:01:45.811608\n",
      "\n"
     ]
    }
   ],
   "source": [
    "d = 0.7\n",
    "\n",
    "for w in widths:\n",
    "#     for d in depths:\n",
    "    print('width multiplier - %.3f depth multiplier - %.3f' % (w, d))\n",
    "    model = MobileNet(num_classes=5,width_mult=w, depth_mult=d).cuda()\n",
    "    p = sum(p.numel() for p in model.parameters())\n",
    "    optimizer = create_optimizer(model, 0.001)\n",
    "    score, t = train_triangular_policy(model, optimizer, train_loader, valid_loader, valid_dataset,\n",
    "                                       loss_fn=F.binary_cross_entropy_with_logits, \n",
    "                                       dataset='chexpert', binary=False, max_lr=0.001, epochs=15)\n",
    "    data.append([w, d, score, p, t])\n",
    "    print('')"
   ]
  },
  {
   "cell_type": "code",
   "execution_count": 21,
   "metadata": {},
   "outputs": [
    {
     "data": {
      "text/plain": [
       "[[1.0,\n",
       "  1.0,\n",
       "  0.6971991207952705,\n",
       "  2230277,\n",
       "  datetime.timedelta(seconds=106, microseconds=164389)],\n",
       " [0.75,\n",
       "  1.0,\n",
       "  0.6886364433978219,\n",
       "  1353373,\n",
       "  datetime.timedelta(seconds=103, microseconds=174532)],\n",
       " [0.5,\n",
       "  1.0,\n",
       "  0.6702295864375458,\n",
       "  690853,\n",
       "  datetime.timedelta(seconds=105, microseconds=417707)],\n",
       " [0.25,\n",
       "  1.0,\n",
       "  0.6500565009921415,\n",
       "  242717,\n",
       "  datetime.timedelta(seconds=105, microseconds=232095)],\n",
       " [1.0,\n",
       "  0.7,\n",
       "  0.6966568743445967,\n",
       "  2176005,\n",
       "  datetime.timedelta(seconds=114, microseconds=469143)],\n",
       " [0.75,\n",
       "  0.7,\n",
       "  0.6890028684475105,\n",
       "  1321885,\n",
       "  datetime.timedelta(seconds=105, microseconds=626181)],\n",
       " [0.5,\n",
       "  0.7,\n",
       "  0.6762539552376621,\n",
       "  676005,\n",
       "  datetime.timedelta(seconds=107, microseconds=715770)],\n",
       " [0.25,\n",
       "  0.7,\n",
       "  0.6534971727047003,\n",
       "  238365,\n",
       "  datetime.timedelta(seconds=105, microseconds=811608)]]"
      ]
     },
     "execution_count": 21,
     "metadata": {},
     "output_type": "execute_result"
    }
   ],
   "source": [
    "data"
   ]
  },
  {
   "cell_type": "code",
   "execution_count": null,
   "metadata": {},
   "outputs": [
    {
     "name": "stdout",
     "output_type": "stream",
     "text": [
      "width multiplier - 1.000 depth multiplier - 0.600\n",
      "train_loss 0.425 val_loss 0.433 val_auc_score 0.588\n",
      "----End of step 0:01:31.034952\n",
      "train_loss 0.417 val_loss 0.426 val_auc_score 0.591\n",
      "----End of step 0:01:31.582724\n",
      "train_loss 0.411 val_loss 0.421 val_auc_score 0.625\n",
      "----End of step 0:01:33.112747\n",
      "train_loss 0.404 val_loss 0.411 val_auc_score 0.647\n",
      "----End of step 0:01:34.136000\n",
      "train_loss 0.398 val_loss 0.415 val_auc_score 0.641\n",
      "----End of step 0:01:33.982062\n",
      "train_loss 0.393 val_loss 0.412 val_auc_score 0.661\n",
      "----End of step 0:01:32.858315\n",
      "train_loss 0.389 val_loss 0.403 val_auc_score 0.672\n",
      "----End of step 0:01:33.912574\n",
      "train_loss 0.386 val_loss 0.409 val_auc_score 0.662\n",
      "----End of step 0:01:34.895450\n"
     ]
    }
   ],
   "source": [
    "d = 0.6\n",
    "\n",
    "for w in widths:\n",
    "#     for d in depths:\n",
    "    print('width multiplier - %.3f depth multiplier - %.3f' % (w, d))\n",
    "    model = MobileNet(num_classes=5,width_mult=w, depth_mult=d).cuda()\n",
    "    p = sum(p.numel() for p in model.parameters())\n",
    "    optimizer = create_optimizer(model, 0.001)\n",
    "    score, t = train_triangular_policy(model, optimizer, train_loader, valid_loader, valid_dataset,\n",
    "                                       loss_fn=F.binary_cross_entropy_with_logits, \n",
    "                                       dataset='chexpert', binary=False, max_lr=0.001, epochs=15)\n",
    "    data.append([w, d, score, p, t])\n",
    "    print('')"
   ]
  },
  {
   "cell_type": "code",
   "execution_count": null,
   "metadata": {},
   "outputs": [],
   "source": [
    "data"
   ]
  },
  {
   "cell_type": "code",
   "execution_count": null,
   "metadata": {},
   "outputs": [],
   "source": [
    "d = 0.5\n",
    "\n",
    "for w in widths:\n",
    "#     for d in depths:\n",
    "    print('width multiplier - %.3f depth multiplier - %.3f' % (w, d))\n",
    "    model = MobileNet(num_classes=5,width_mult=w, depth_mult=d).cuda()\n",
    "    p = sum(p.numel() for p in model.parameters())\n",
    "    optimizer = create_optimizer(model, 0.001)\n",
    "    score, t = train_triangular_policy(model, optimizer, train_loader, valid_loader, valid_dataset,\n",
    "                                       loss_fn=F.binary_cross_entropy_with_logits, \n",
    "                                       dataset='chexpert', binary=False, max_lr=0.001, epochs=15)\n",
    "    data.append([w, d, score, p, t])\n",
    "    print('')"
   ]
  },
  {
   "cell_type": "code",
   "execution_count": null,
   "metadata": {},
   "outputs": [],
   "source": [
    "data"
   ]
  },
  {
   "cell_type": "code",
   "execution_count": null,
   "metadata": {},
   "outputs": [],
   "source": [
    "d = 0.3\n",
    "\n",
    "for w in widths:\n",
    "#     for d in depths:\n",
    "    print('width multiplier - %.3f depth multiplier - %.3f' % (w, d))\n",
    "    model = MobileNet(num_classes=5,width_mult=w, depth_mult=d).cuda()\n",
    "    p = sum(p.numel() for p in model.parameters())\n",
    "    optimizer = create_optimizer(model, 0.001)\n",
    "    score, t = train_triangular_policy(model, optimizer, train_loader, valid_loader, valid_dataset,\n",
    "                                       loss_fn=F.binary_cross_entropy_with_logits, \n",
    "                                       dataset='chexpert', binary=False, max_lr=0.001, epochs=15)\n",
    "    data.append([w, d, score, p, t])\n",
    "    print('')"
   ]
  },
  {
   "cell_type": "code",
   "execution_count": null,
   "metadata": {},
   "outputs": [],
   "source": [
    "data"
   ]
  },
  {
   "cell_type": "code",
   "execution_count": null,
   "metadata": {},
   "outputs": [],
   "source": [
    "d = 0.2\n",
    "\n",
    "for w in widths:\n",
    "#     for d in depths:\n",
    "    print('width multiplier - %.3f depth multiplier - %.3f' % (w, d))\n",
    "    model = MobileNet(num_classes=5,width_mult=w, depth_mult=d).cuda()\n",
    "    p = sum(p.numel() for p in model.parameters())\n",
    "    optimizer = create_optimizer(model, 0.001)\n",
    "    score, t = train_triangular_policy(model, optimizer, train_loader, valid_loader, valid_dataset,\n",
    "                                       loss_fn=F.binary_cross_entropy_with_logits, \n",
    "                                       dataset='chexpert', binary=False, max_lr=0.001, epochs=15)\n",
    "    data.append([w, d, score, p, t])\n",
    "    print('')"
   ]
  },
  {
   "cell_type": "code",
   "execution_count": null,
   "metadata": {},
   "outputs": [],
   "source": [
    "data"
   ]
  },
  {
   "cell_type": "code",
   "execution_count": null,
   "metadata": {},
   "outputs": [],
   "source": [
    "columns = ['width_x', 'depth_x', 'val_score', 'params', 'time_per_epoch']\n",
    "df = pd.DataFrame(data=data, columns=columns)"
   ]
  },
  {
   "cell_type": "code",
   "execution_count": null,
   "metadata": {},
   "outputs": [],
   "source": [
    "df.to_csv(\"chexpert_mobilenet.csv\", index=False)"
   ]
  },
  {
   "cell_type": "code",
   "execution_count": null,
   "metadata": {},
   "outputs": [],
   "source": [
    "df_re = pd.read_csv('chexpert_mobilenet.csv')"
   ]
  },
  {
   "cell_type": "code",
   "execution_count": null,
   "metadata": {},
   "outputs": [],
   "source": [
    "df_re.head()"
   ]
  },
  {
   "cell_type": "code",
   "execution_count": null,
   "metadata": {},
   "outputs": [],
   "source": []
  }
 ],
 "metadata": {
  "kernelspec": {
   "display_name": "Python 3",
   "language": "python",
   "name": "python3"
  },
  "language_info": {
   "codemirror_mode": {
    "name": "ipython",
    "version": 3
   },
   "file_extension": ".py",
   "mimetype": "text/x-python",
   "name": "python",
   "nbconvert_exporter": "python",
   "pygments_lexer": "ipython3",
   "version": "3.7.4"
  }
 },
 "nbformat": 4,
 "nbformat_minor": 2
}
