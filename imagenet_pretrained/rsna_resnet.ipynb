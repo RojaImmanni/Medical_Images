{
 "cells": [
  {
   "cell_type": "code",
   "execution_count": 1,
   "metadata": {},
   "outputs": [
    {
     "name": "stdout",
     "output_type": "stream",
     "text": [
      "6\n"
     ]
    }
   ],
   "source": [
    "import torch\n",
    "torch.cuda.set_device(6)\n",
    "print(torch.cuda.current_device())"
   ]
  },
  {
   "cell_type": "code",
   "execution_count": 2,
   "metadata": {},
   "outputs": [],
   "source": [
    "%run ../architectures.py\n",
    "%run ../prepare_data.py"
   ]
  },
  {
   "cell_type": "code",
   "execution_count": 3,
   "metadata": {},
   "outputs": [],
   "source": [
    "batch_size = 32"
   ]
  },
  {
   "cell_type": "code",
   "execution_count": 4,
   "metadata": {},
   "outputs": [],
   "source": [
    "train_loader, valid_loader, valid_dataset = rsna_dataloaders(batch_size)"
   ]
  },
  {
   "cell_type": "code",
   "execution_count": 5,
   "metadata": {},
   "outputs": [],
   "source": [
    "x, y = next(iter(train_loader))"
   ]
  },
  {
   "cell_type": "code",
   "execution_count": 6,
   "metadata": {},
   "outputs": [
    {
     "data": {
      "text/plain": [
       "(torch.Size([32, 3, 256, 256]), torch.Size([32]))"
      ]
     },
     "execution_count": 6,
     "metadata": {},
     "output_type": "execute_result"
    }
   ],
   "source": [
    "x.shape, y.shape"
   ]
  },
  {
   "cell_type": "code",
   "execution_count": 7,
   "metadata": {},
   "outputs": [],
   "source": [
    "depths = [[[[64, 2], [128, 2]], [[256, 2], [512, 1]]],\n",
    "          [[[64, 2], [128, 2]], [[256, 1], [512, 1]]],\n",
    "          [[[64, 2], [128, 1]], [[256, 1], [512, 1]]],\n",
    "          [[[64, 2], [128, 1]], [[256, 2], [512, 1]]],\n",
    "          [[[64, 1], [128, 1]], [[256, 2], [512, 1]]],\n",
    "          [[[64, 1], [128, 1]], [[256, 1], [512, 1]]],\n",
    "         ]"
   ]
  },
  {
   "cell_type": "markdown",
   "metadata": {},
   "source": [
    "### original"
   ]
  },
  {
   "cell_type": "code",
   "execution_count": 8,
   "metadata": {},
   "outputs": [
    {
     "name": "stdout",
     "output_type": "stream",
     "text": [
      "train_loss 0.366 val_loss 0.470 val_auc_score 0.896\n",
      "----End of step 0:01:56.557461\n",
      "train_loss 0.332 val_loss 0.344 val_auc_score 0.925\n",
      "----End of step 0:01:27.700879\n",
      "train_loss 0.324 val_loss 0.341 val_auc_score 0.923\n",
      "----End of step 0:01:26.929502\n",
      "train_loss 0.314 val_loss 0.287 val_auc_score 0.940\n",
      "----End of step 0:01:25.553623\n",
      "train_loss 0.296 val_loss 0.319 val_auc_score 0.938\n",
      "----End of step 0:01:25.697249\n",
      "train_loss 0.291 val_loss 0.379 val_auc_score 0.924\n",
      "----End of step 0:01:26.312664\n",
      "train_loss 0.276 val_loss 0.279 val_auc_score 0.947\n",
      "----End of step 0:01:26.995093\n",
      "train_loss 0.264 val_loss 0.273 val_auc_score 0.946\n",
      "----End of step 0:01:26.406267\n",
      "train_loss 0.251 val_loss 0.254 val_auc_score 0.954\n",
      "----End of step 0:01:27.127245\n",
      "train_loss 0.240 val_loss 0.267 val_auc_score 0.951\n",
      "----End of step 0:01:28.220372\n",
      "train_loss 0.225 val_loss 0.242 val_auc_score 0.958\n",
      "----End of step 0:01:27.710819\n",
      "train_loss 0.211 val_loss 0.233 val_auc_score 0.961\n",
      "----End of step 0:01:26.490293\n",
      "train_loss 0.199 val_loss 0.235 val_auc_score 0.962\n",
      "----End of step 0:01:26.286777\n",
      "train_loss 0.191 val_loss 0.233 val_auc_score 0.963\n",
      "----End of step 0:01:25.756020\n",
      "train_loss 0.185 val_loss 0.230 val_auc_score 0.963\n",
      "----End of step 0:01:25.661575\n",
      "train_loss 0.368 val_loss 0.378 val_auc_score 0.919\n",
      "----End of step 0:01:25.704260\n",
      "train_loss 0.332 val_loss 0.365 val_auc_score 0.923\n",
      "----End of step 0:01:25.970173\n",
      "train_loss 0.327 val_loss 0.320 val_auc_score 0.922\n",
      "----End of step 0:01:26.017861\n",
      "train_loss 0.308 val_loss 0.398 val_auc_score 0.926\n",
      "----End of step 0:01:26.639073\n",
      "train_loss 0.302 val_loss 0.287 val_auc_score 0.940\n",
      "----End of step 0:01:26.162272\n",
      "train_loss 0.287 val_loss 0.311 val_auc_score 0.945\n",
      "----End of step 0:01:26.689874\n",
      "train_loss 0.276 val_loss 0.314 val_auc_score 0.947\n",
      "----End of step 0:01:28.129422\n",
      "train_loss 0.263 val_loss 0.264 val_auc_score 0.949\n",
      "----End of step 0:01:28.783135\n",
      "train_loss 0.248 val_loss 0.265 val_auc_score 0.951\n",
      "----End of step 0:01:29.088475\n",
      "train_loss 0.236 val_loss 0.247 val_auc_score 0.955\n",
      "----End of step 0:01:29.041795\n",
      "train_loss 0.221 val_loss 0.245 val_auc_score 0.958\n",
      "----End of step 0:01:28.773707\n",
      "train_loss 0.208 val_loss 0.235 val_auc_score 0.960\n",
      "----End of step 0:01:28.859325\n",
      "train_loss 0.198 val_loss 0.233 val_auc_score 0.962\n",
      "----End of step 0:01:26.960636\n",
      "train_loss 0.190 val_loss 0.230 val_auc_score 0.963\n",
      "----End of step 0:01:26.021130\n",
      "train_loss 0.183 val_loss 0.235 val_auc_score 0.963\n",
      "----End of step 0:01:25.551765\n",
      "train_loss 0.368 val_loss 0.337 val_auc_score 0.922\n",
      "----End of step 0:01:25.648000\n"
     ]
    },
    {
     "ename": "KeyboardInterrupt",
     "evalue": "",
     "output_type": "error",
     "traceback": [
      "\u001b[0;31m---------------------------------------------------------------------------\u001b[0m",
      "\u001b[0;31mKeyboardInterrupt\u001b[0m                         Traceback (most recent call last)",
      "\u001b[0;32m<ipython-input-8-6920fc00d306>\u001b[0m in \u001b[0;36m<module>\u001b[0;34m\u001b[0m\n\u001b[1;32m      7\u001b[0m     score, t = train_triangular_policy(model, optimizer, train_loader, valid_loader, valid_dataset,\n\u001b[1;32m      8\u001b[0m                                                \u001b[0mloss_fn\u001b[0m\u001b[0;34m=\u001b[0m\u001b[0mF\u001b[0m\u001b[0;34m.\u001b[0m\u001b[0mbinary_cross_entropy_with_logits\u001b[0m\u001b[0;34m,\u001b[0m\u001b[0;34m\u001b[0m\u001b[0;34m\u001b[0m\u001b[0m\n\u001b[0;32m----> 9\u001b[0;31m                                                dataset='rsna', binary=True, max_lr=0.01, epochs=15)\n\u001b[0m\u001b[1;32m     10\u001b[0m \u001b[0;34m\u001b[0m\u001b[0m\n\u001b[1;32m     11\u001b[0m     \u001b[0mdata\u001b[0m\u001b[0;34m.\u001b[0m\u001b[0mappend\u001b[0m\u001b[0;34m(\u001b[0m\u001b[0;34m[\u001b[0m\u001b[0mscore\u001b[0m\u001b[0;34m,\u001b[0m \u001b[0mt\u001b[0m\u001b[0;34m,\u001b[0m \u001b[0;34m'rsna'\u001b[0m\u001b[0;34m,\u001b[0m \u001b[0;34m'resnet_full'\u001b[0m\u001b[0;34m]\u001b[0m\u001b[0;34m)\u001b[0m\u001b[0;34m\u001b[0m\u001b[0;34m\u001b[0m\u001b[0m\n",
      "\u001b[0;32m~/Medical_Images/training.py\u001b[0m in \u001b[0;36mtrain_triangular_policy\u001b[0;34m(model, optimizer, train_dl, valid_dl, valid_dataset, loss_fn, dataset, binary, max_lr, epochs)\u001b[0m\n\u001b[1;32m     23\u001b[0m             \u001b[0my\u001b[0m \u001b[0;34m=\u001b[0m \u001b[0my\u001b[0m\u001b[0;34m.\u001b[0m\u001b[0mcuda\u001b[0m\u001b[0;34m(\u001b[0m\u001b[0;34m)\u001b[0m\u001b[0;34m\u001b[0m\u001b[0;34m\u001b[0m\u001b[0m\n\u001b[1;32m     24\u001b[0m \u001b[0;34m\u001b[0m\u001b[0m\n\u001b[0;32m---> 25\u001b[0;31m             \u001b[0;32mif\u001b[0m \u001b[0mbinary\u001b[0m\u001b[0;34m:\u001b[0m \u001b[0mout\u001b[0m \u001b[0;34m=\u001b[0m \u001b[0mmodel\u001b[0m\u001b[0;34m(\u001b[0m\u001b[0mx\u001b[0m\u001b[0;34m)\u001b[0m\u001b[0;34m.\u001b[0m\u001b[0mview\u001b[0m\u001b[0;34m(\u001b[0m\u001b[0;34m-\u001b[0m\u001b[0;36m1\u001b[0m\u001b[0;34m)\u001b[0m\u001b[0;34m\u001b[0m\u001b[0;34m\u001b[0m\u001b[0m\n\u001b[0m\u001b[1;32m     26\u001b[0m             \u001b[0;32melse\u001b[0m\u001b[0;34m:\u001b[0m \u001b[0mout\u001b[0m \u001b[0;34m=\u001b[0m \u001b[0mmodel\u001b[0m\u001b[0;34m(\u001b[0m\u001b[0mx\u001b[0m\u001b[0;34m)\u001b[0m\u001b[0;34m\u001b[0m\u001b[0;34m\u001b[0m\u001b[0m\n\u001b[1;32m     27\u001b[0m \u001b[0;34m\u001b[0m\u001b[0m\n",
      "\u001b[0;32m~/anaconda3/lib/python3.7/site-packages/torch/nn/modules/module.py\u001b[0m in \u001b[0;36m__call__\u001b[0;34m(self, *input, **kwargs)\u001b[0m\n\u001b[1;32m    539\u001b[0m             \u001b[0mresult\u001b[0m \u001b[0;34m=\u001b[0m \u001b[0mself\u001b[0m\u001b[0;34m.\u001b[0m\u001b[0m_slow_forward\u001b[0m\u001b[0;34m(\u001b[0m\u001b[0;34m*\u001b[0m\u001b[0minput\u001b[0m\u001b[0;34m,\u001b[0m \u001b[0;34m**\u001b[0m\u001b[0mkwargs\u001b[0m\u001b[0;34m)\u001b[0m\u001b[0;34m\u001b[0m\u001b[0;34m\u001b[0m\u001b[0m\n\u001b[1;32m    540\u001b[0m         \u001b[0;32melse\u001b[0m\u001b[0;34m:\u001b[0m\u001b[0;34m\u001b[0m\u001b[0;34m\u001b[0m\u001b[0m\n\u001b[0;32m--> 541\u001b[0;31m             \u001b[0mresult\u001b[0m \u001b[0;34m=\u001b[0m \u001b[0mself\u001b[0m\u001b[0;34m.\u001b[0m\u001b[0mforward\u001b[0m\u001b[0;34m(\u001b[0m\u001b[0;34m*\u001b[0m\u001b[0minput\u001b[0m\u001b[0;34m,\u001b[0m \u001b[0;34m**\u001b[0m\u001b[0mkwargs\u001b[0m\u001b[0;34m)\u001b[0m\u001b[0;34m\u001b[0m\u001b[0;34m\u001b[0m\u001b[0m\n\u001b[0m\u001b[1;32m    542\u001b[0m         \u001b[0;32mfor\u001b[0m \u001b[0mhook\u001b[0m \u001b[0;32min\u001b[0m \u001b[0mself\u001b[0m\u001b[0;34m.\u001b[0m\u001b[0m_forward_hooks\u001b[0m\u001b[0;34m.\u001b[0m\u001b[0mvalues\u001b[0m\u001b[0;34m(\u001b[0m\u001b[0;34m)\u001b[0m\u001b[0;34m:\u001b[0m\u001b[0;34m\u001b[0m\u001b[0;34m\u001b[0m\u001b[0m\n\u001b[1;32m    543\u001b[0m             \u001b[0mhook_result\u001b[0m \u001b[0;34m=\u001b[0m \u001b[0mhook\u001b[0m\u001b[0;34m(\u001b[0m\u001b[0mself\u001b[0m\u001b[0;34m,\u001b[0m \u001b[0minput\u001b[0m\u001b[0;34m,\u001b[0m \u001b[0mresult\u001b[0m\u001b[0;34m)\u001b[0m\u001b[0;34m\u001b[0m\u001b[0;34m\u001b[0m\u001b[0m\n",
      "\u001b[0;32m~/Medical_Images/architectures.py\u001b[0m in \u001b[0;36mforward\u001b[0;34m(self, x)\u001b[0m\n\u001b[1;32m    198\u001b[0m     \u001b[0;32mdef\u001b[0m \u001b[0mforward\u001b[0m\u001b[0;34m(\u001b[0m\u001b[0mself\u001b[0m\u001b[0;34m,\u001b[0m \u001b[0mx\u001b[0m\u001b[0;34m)\u001b[0m\u001b[0;34m:\u001b[0m\u001b[0;34m\u001b[0m\u001b[0;34m\u001b[0m\u001b[0m\n\u001b[1;32m    199\u001b[0m         \u001b[0mx\u001b[0m \u001b[0;34m=\u001b[0m \u001b[0mself\u001b[0m\u001b[0;34m.\u001b[0m\u001b[0mfeatures1\u001b[0m\u001b[0;34m(\u001b[0m\u001b[0mx\u001b[0m\u001b[0;34m)\u001b[0m\u001b[0;34m\u001b[0m\u001b[0;34m\u001b[0m\u001b[0m\n\u001b[0;32m--> 200\u001b[0;31m         \u001b[0mx\u001b[0m \u001b[0;34m=\u001b[0m \u001b[0mself\u001b[0m\u001b[0;34m.\u001b[0m\u001b[0mfeatures2\u001b[0m\u001b[0;34m(\u001b[0m\u001b[0mx\u001b[0m\u001b[0;34m)\u001b[0m\u001b[0;34m\u001b[0m\u001b[0;34m\u001b[0m\u001b[0m\n\u001b[0m\u001b[1;32m    201\u001b[0m         \u001b[0mx\u001b[0m \u001b[0;34m=\u001b[0m \u001b[0mself\u001b[0m\u001b[0;34m.\u001b[0m\u001b[0mavgpool\u001b[0m\u001b[0;34m(\u001b[0m\u001b[0mx\u001b[0m\u001b[0;34m)\u001b[0m\u001b[0;34m\u001b[0m\u001b[0;34m\u001b[0m\u001b[0m\n\u001b[1;32m    202\u001b[0m         \u001b[0mx\u001b[0m \u001b[0;34m=\u001b[0m \u001b[0mx\u001b[0m\u001b[0;34m.\u001b[0m\u001b[0mview\u001b[0m\u001b[0;34m(\u001b[0m\u001b[0mx\u001b[0m\u001b[0;34m.\u001b[0m\u001b[0mshape\u001b[0m\u001b[0;34m[\u001b[0m\u001b[0;36m0\u001b[0m\u001b[0;34m]\u001b[0m\u001b[0;34m,\u001b[0m \u001b[0;34m-\u001b[0m\u001b[0;36m1\u001b[0m\u001b[0;34m)\u001b[0m\u001b[0;34m\u001b[0m\u001b[0;34m\u001b[0m\u001b[0m\n",
      "\u001b[0;32m~/anaconda3/lib/python3.7/site-packages/torch/nn/modules/module.py\u001b[0m in \u001b[0;36m__call__\u001b[0;34m(self, *input, **kwargs)\u001b[0m\n\u001b[1;32m    539\u001b[0m             \u001b[0mresult\u001b[0m \u001b[0;34m=\u001b[0m \u001b[0mself\u001b[0m\u001b[0;34m.\u001b[0m\u001b[0m_slow_forward\u001b[0m\u001b[0;34m(\u001b[0m\u001b[0;34m*\u001b[0m\u001b[0minput\u001b[0m\u001b[0;34m,\u001b[0m \u001b[0;34m**\u001b[0m\u001b[0mkwargs\u001b[0m\u001b[0;34m)\u001b[0m\u001b[0;34m\u001b[0m\u001b[0;34m\u001b[0m\u001b[0m\n\u001b[1;32m    540\u001b[0m         \u001b[0;32melse\u001b[0m\u001b[0;34m:\u001b[0m\u001b[0;34m\u001b[0m\u001b[0;34m\u001b[0m\u001b[0m\n\u001b[0;32m--> 541\u001b[0;31m             \u001b[0mresult\u001b[0m \u001b[0;34m=\u001b[0m \u001b[0mself\u001b[0m\u001b[0;34m.\u001b[0m\u001b[0mforward\u001b[0m\u001b[0;34m(\u001b[0m\u001b[0;34m*\u001b[0m\u001b[0minput\u001b[0m\u001b[0;34m,\u001b[0m \u001b[0;34m**\u001b[0m\u001b[0mkwargs\u001b[0m\u001b[0;34m)\u001b[0m\u001b[0;34m\u001b[0m\u001b[0;34m\u001b[0m\u001b[0m\n\u001b[0m\u001b[1;32m    542\u001b[0m         \u001b[0;32mfor\u001b[0m \u001b[0mhook\u001b[0m \u001b[0;32min\u001b[0m \u001b[0mself\u001b[0m\u001b[0;34m.\u001b[0m\u001b[0m_forward_hooks\u001b[0m\u001b[0;34m.\u001b[0m\u001b[0mvalues\u001b[0m\u001b[0;34m(\u001b[0m\u001b[0;34m)\u001b[0m\u001b[0;34m:\u001b[0m\u001b[0;34m\u001b[0m\u001b[0;34m\u001b[0m\u001b[0m\n\u001b[1;32m    543\u001b[0m             \u001b[0mhook_result\u001b[0m \u001b[0;34m=\u001b[0m \u001b[0mhook\u001b[0m\u001b[0;34m(\u001b[0m\u001b[0mself\u001b[0m\u001b[0;34m,\u001b[0m \u001b[0minput\u001b[0m\u001b[0;34m,\u001b[0m \u001b[0mresult\u001b[0m\u001b[0;34m)\u001b[0m\u001b[0;34m\u001b[0m\u001b[0;34m\u001b[0m\u001b[0m\n",
      "\u001b[0;32m~/anaconda3/lib/python3.7/site-packages/torch/nn/modules/container.py\u001b[0m in \u001b[0;36mforward\u001b[0;34m(self, input)\u001b[0m\n\u001b[1;32m     90\u001b[0m     \u001b[0;32mdef\u001b[0m \u001b[0mforward\u001b[0m\u001b[0;34m(\u001b[0m\u001b[0mself\u001b[0m\u001b[0;34m,\u001b[0m \u001b[0minput\u001b[0m\u001b[0;34m)\u001b[0m\u001b[0;34m:\u001b[0m\u001b[0;34m\u001b[0m\u001b[0;34m\u001b[0m\u001b[0m\n\u001b[1;32m     91\u001b[0m         \u001b[0;32mfor\u001b[0m \u001b[0mmodule\u001b[0m \u001b[0;32min\u001b[0m \u001b[0mself\u001b[0m\u001b[0;34m.\u001b[0m\u001b[0m_modules\u001b[0m\u001b[0;34m.\u001b[0m\u001b[0mvalues\u001b[0m\u001b[0;34m(\u001b[0m\u001b[0;34m)\u001b[0m\u001b[0;34m:\u001b[0m\u001b[0;34m\u001b[0m\u001b[0;34m\u001b[0m\u001b[0m\n\u001b[0;32m---> 92\u001b[0;31m             \u001b[0minput\u001b[0m \u001b[0;34m=\u001b[0m \u001b[0mmodule\u001b[0m\u001b[0;34m(\u001b[0m\u001b[0minput\u001b[0m\u001b[0;34m)\u001b[0m\u001b[0;34m\u001b[0m\u001b[0;34m\u001b[0m\u001b[0m\n\u001b[0m\u001b[1;32m     93\u001b[0m         \u001b[0;32mreturn\u001b[0m \u001b[0minput\u001b[0m\u001b[0;34m\u001b[0m\u001b[0;34m\u001b[0m\u001b[0m\n\u001b[1;32m     94\u001b[0m \u001b[0;34m\u001b[0m\u001b[0m\n",
      "\u001b[0;32m~/anaconda3/lib/python3.7/site-packages/torch/nn/modules/module.py\u001b[0m in \u001b[0;36m__call__\u001b[0;34m(self, *input, **kwargs)\u001b[0m\n\u001b[1;32m    539\u001b[0m             \u001b[0mresult\u001b[0m \u001b[0;34m=\u001b[0m \u001b[0mself\u001b[0m\u001b[0;34m.\u001b[0m\u001b[0m_slow_forward\u001b[0m\u001b[0;34m(\u001b[0m\u001b[0;34m*\u001b[0m\u001b[0minput\u001b[0m\u001b[0;34m,\u001b[0m \u001b[0;34m**\u001b[0m\u001b[0mkwargs\u001b[0m\u001b[0;34m)\u001b[0m\u001b[0;34m\u001b[0m\u001b[0;34m\u001b[0m\u001b[0m\n\u001b[1;32m    540\u001b[0m         \u001b[0;32melse\u001b[0m\u001b[0;34m:\u001b[0m\u001b[0;34m\u001b[0m\u001b[0;34m\u001b[0m\u001b[0m\n\u001b[0;32m--> 541\u001b[0;31m             \u001b[0mresult\u001b[0m \u001b[0;34m=\u001b[0m \u001b[0mself\u001b[0m\u001b[0;34m.\u001b[0m\u001b[0mforward\u001b[0m\u001b[0;34m(\u001b[0m\u001b[0;34m*\u001b[0m\u001b[0minput\u001b[0m\u001b[0;34m,\u001b[0m \u001b[0;34m**\u001b[0m\u001b[0mkwargs\u001b[0m\u001b[0;34m)\u001b[0m\u001b[0;34m\u001b[0m\u001b[0;34m\u001b[0m\u001b[0m\n\u001b[0m\u001b[1;32m    542\u001b[0m         \u001b[0;32mfor\u001b[0m \u001b[0mhook\u001b[0m \u001b[0;32min\u001b[0m \u001b[0mself\u001b[0m\u001b[0;34m.\u001b[0m\u001b[0m_forward_hooks\u001b[0m\u001b[0;34m.\u001b[0m\u001b[0mvalues\u001b[0m\u001b[0;34m(\u001b[0m\u001b[0;34m)\u001b[0m\u001b[0;34m:\u001b[0m\u001b[0;34m\u001b[0m\u001b[0;34m\u001b[0m\u001b[0m\n\u001b[1;32m    543\u001b[0m             \u001b[0mhook_result\u001b[0m \u001b[0;34m=\u001b[0m \u001b[0mhook\u001b[0m\u001b[0;34m(\u001b[0m\u001b[0mself\u001b[0m\u001b[0;34m,\u001b[0m \u001b[0minput\u001b[0m\u001b[0;34m,\u001b[0m \u001b[0mresult\u001b[0m\u001b[0;34m)\u001b[0m\u001b[0;34m\u001b[0m\u001b[0;34m\u001b[0m\u001b[0m\n",
      "\u001b[0;32m~/Medical_Images/architectures.py\u001b[0m in \u001b[0;36mforward\u001b[0;34m(self, x)\u001b[0m\n\u001b[1;32m    129\u001b[0m     \u001b[0;32mdef\u001b[0m \u001b[0mforward\u001b[0m\u001b[0;34m(\u001b[0m\u001b[0mself\u001b[0m\u001b[0;34m,\u001b[0m \u001b[0mx\u001b[0m\u001b[0;34m)\u001b[0m\u001b[0;34m:\u001b[0m\u001b[0;34m\u001b[0m\u001b[0;34m\u001b[0m\u001b[0m\n\u001b[1;32m    130\u001b[0m         \u001b[0;32mif\u001b[0m \u001b[0mself\u001b[0m\u001b[0;34m.\u001b[0m\u001b[0mapply_shortcut\u001b[0m\u001b[0;34m:\u001b[0m\u001b[0;34m\u001b[0m\u001b[0;34m\u001b[0m\u001b[0m\n\u001b[0;32m--> 131\u001b[0;31m             \u001b[0;32mreturn\u001b[0m \u001b[0mself\u001b[0m\u001b[0;34m.\u001b[0m\u001b[0mrelu\u001b[0m\u001b[0;34m(\u001b[0m\u001b[0mself\u001b[0m\u001b[0;34m.\u001b[0m\u001b[0mshortcut\u001b[0m\u001b[0;34m(\u001b[0m\u001b[0mx\u001b[0m\u001b[0;34m)\u001b[0m \u001b[0;34m+\u001b[0m \u001b[0mself\u001b[0m\u001b[0;34m.\u001b[0m\u001b[0mlayers\u001b[0m\u001b[0;34m(\u001b[0m\u001b[0mx\u001b[0m\u001b[0;34m)\u001b[0m\u001b[0;34m)\u001b[0m\u001b[0;34m\u001b[0m\u001b[0;34m\u001b[0m\u001b[0m\n\u001b[0m\u001b[1;32m    132\u001b[0m         \u001b[0;32melse\u001b[0m\u001b[0;34m:\u001b[0m\u001b[0;34m\u001b[0m\u001b[0;34m\u001b[0m\u001b[0m\n\u001b[1;32m    133\u001b[0m             \u001b[0;32mreturn\u001b[0m \u001b[0mself\u001b[0m\u001b[0;34m.\u001b[0m\u001b[0mrelu\u001b[0m\u001b[0;34m(\u001b[0m\u001b[0mx\u001b[0m \u001b[0;34m+\u001b[0m \u001b[0mself\u001b[0m\u001b[0;34m.\u001b[0m\u001b[0mlayers\u001b[0m\u001b[0;34m(\u001b[0m\u001b[0mx\u001b[0m\u001b[0;34m)\u001b[0m\u001b[0;34m)\u001b[0m\u001b[0;34m\u001b[0m\u001b[0;34m\u001b[0m\u001b[0m\n",
      "\u001b[0;32m~/anaconda3/lib/python3.7/site-packages/torch/nn/modules/module.py\u001b[0m in \u001b[0;36m__call__\u001b[0;34m(self, *input, **kwargs)\u001b[0m\n\u001b[1;32m    539\u001b[0m             \u001b[0mresult\u001b[0m \u001b[0;34m=\u001b[0m \u001b[0mself\u001b[0m\u001b[0;34m.\u001b[0m\u001b[0m_slow_forward\u001b[0m\u001b[0;34m(\u001b[0m\u001b[0;34m*\u001b[0m\u001b[0minput\u001b[0m\u001b[0;34m,\u001b[0m \u001b[0;34m**\u001b[0m\u001b[0mkwargs\u001b[0m\u001b[0;34m)\u001b[0m\u001b[0;34m\u001b[0m\u001b[0;34m\u001b[0m\u001b[0m\n\u001b[1;32m    540\u001b[0m         \u001b[0;32melse\u001b[0m\u001b[0;34m:\u001b[0m\u001b[0;34m\u001b[0m\u001b[0;34m\u001b[0m\u001b[0m\n\u001b[0;32m--> 541\u001b[0;31m             \u001b[0mresult\u001b[0m \u001b[0;34m=\u001b[0m \u001b[0mself\u001b[0m\u001b[0;34m.\u001b[0m\u001b[0mforward\u001b[0m\u001b[0;34m(\u001b[0m\u001b[0;34m*\u001b[0m\u001b[0minput\u001b[0m\u001b[0;34m,\u001b[0m \u001b[0;34m**\u001b[0m\u001b[0mkwargs\u001b[0m\u001b[0;34m)\u001b[0m\u001b[0;34m\u001b[0m\u001b[0;34m\u001b[0m\u001b[0m\n\u001b[0m\u001b[1;32m    542\u001b[0m         \u001b[0;32mfor\u001b[0m \u001b[0mhook\u001b[0m \u001b[0;32min\u001b[0m \u001b[0mself\u001b[0m\u001b[0;34m.\u001b[0m\u001b[0m_forward_hooks\u001b[0m\u001b[0;34m.\u001b[0m\u001b[0mvalues\u001b[0m\u001b[0;34m(\u001b[0m\u001b[0;34m)\u001b[0m\u001b[0;34m:\u001b[0m\u001b[0;34m\u001b[0m\u001b[0;34m\u001b[0m\u001b[0m\n\u001b[1;32m    543\u001b[0m             \u001b[0mhook_result\u001b[0m \u001b[0;34m=\u001b[0m \u001b[0mhook\u001b[0m\u001b[0;34m(\u001b[0m\u001b[0mself\u001b[0m\u001b[0;34m,\u001b[0m \u001b[0minput\u001b[0m\u001b[0;34m,\u001b[0m \u001b[0mresult\u001b[0m\u001b[0;34m)\u001b[0m\u001b[0;34m\u001b[0m\u001b[0;34m\u001b[0m\u001b[0m\n",
      "\u001b[0;32m~/anaconda3/lib/python3.7/site-packages/torch/nn/modules/container.py\u001b[0m in \u001b[0;36mforward\u001b[0;34m(self, input)\u001b[0m\n\u001b[1;32m     90\u001b[0m     \u001b[0;32mdef\u001b[0m \u001b[0mforward\u001b[0m\u001b[0;34m(\u001b[0m\u001b[0mself\u001b[0m\u001b[0;34m,\u001b[0m \u001b[0minput\u001b[0m\u001b[0;34m)\u001b[0m\u001b[0;34m:\u001b[0m\u001b[0;34m\u001b[0m\u001b[0;34m\u001b[0m\u001b[0m\n\u001b[1;32m     91\u001b[0m         \u001b[0;32mfor\u001b[0m \u001b[0mmodule\u001b[0m \u001b[0;32min\u001b[0m \u001b[0mself\u001b[0m\u001b[0;34m.\u001b[0m\u001b[0m_modules\u001b[0m\u001b[0;34m.\u001b[0m\u001b[0mvalues\u001b[0m\u001b[0;34m(\u001b[0m\u001b[0;34m)\u001b[0m\u001b[0;34m:\u001b[0m\u001b[0;34m\u001b[0m\u001b[0;34m\u001b[0m\u001b[0m\n\u001b[0;32m---> 92\u001b[0;31m             \u001b[0minput\u001b[0m \u001b[0;34m=\u001b[0m \u001b[0mmodule\u001b[0m\u001b[0;34m(\u001b[0m\u001b[0minput\u001b[0m\u001b[0;34m)\u001b[0m\u001b[0;34m\u001b[0m\u001b[0;34m\u001b[0m\u001b[0m\n\u001b[0m\u001b[1;32m     93\u001b[0m         \u001b[0;32mreturn\u001b[0m \u001b[0minput\u001b[0m\u001b[0;34m\u001b[0m\u001b[0;34m\u001b[0m\u001b[0m\n\u001b[1;32m     94\u001b[0m \u001b[0;34m\u001b[0m\u001b[0m\n",
      "\u001b[0;32m~/anaconda3/lib/python3.7/site-packages/torch/nn/modules/module.py\u001b[0m in \u001b[0;36m__call__\u001b[0;34m(self, *input, **kwargs)\u001b[0m\n\u001b[1;32m    539\u001b[0m             \u001b[0mresult\u001b[0m \u001b[0;34m=\u001b[0m \u001b[0mself\u001b[0m\u001b[0;34m.\u001b[0m\u001b[0m_slow_forward\u001b[0m\u001b[0;34m(\u001b[0m\u001b[0;34m*\u001b[0m\u001b[0minput\u001b[0m\u001b[0;34m,\u001b[0m \u001b[0;34m**\u001b[0m\u001b[0mkwargs\u001b[0m\u001b[0;34m)\u001b[0m\u001b[0;34m\u001b[0m\u001b[0;34m\u001b[0m\u001b[0m\n\u001b[1;32m    540\u001b[0m         \u001b[0;32melse\u001b[0m\u001b[0;34m:\u001b[0m\u001b[0;34m\u001b[0m\u001b[0;34m\u001b[0m\u001b[0m\n\u001b[0;32m--> 541\u001b[0;31m             \u001b[0mresult\u001b[0m \u001b[0;34m=\u001b[0m \u001b[0mself\u001b[0m\u001b[0;34m.\u001b[0m\u001b[0mforward\u001b[0m\u001b[0;34m(\u001b[0m\u001b[0;34m*\u001b[0m\u001b[0minput\u001b[0m\u001b[0;34m,\u001b[0m \u001b[0;34m**\u001b[0m\u001b[0mkwargs\u001b[0m\u001b[0;34m)\u001b[0m\u001b[0;34m\u001b[0m\u001b[0;34m\u001b[0m\u001b[0m\n\u001b[0m\u001b[1;32m    542\u001b[0m         \u001b[0;32mfor\u001b[0m \u001b[0mhook\u001b[0m \u001b[0;32min\u001b[0m \u001b[0mself\u001b[0m\u001b[0;34m.\u001b[0m\u001b[0m_forward_hooks\u001b[0m\u001b[0;34m.\u001b[0m\u001b[0mvalues\u001b[0m\u001b[0;34m(\u001b[0m\u001b[0;34m)\u001b[0m\u001b[0;34m:\u001b[0m\u001b[0;34m\u001b[0m\u001b[0;34m\u001b[0m\u001b[0m\n\u001b[1;32m    543\u001b[0m             \u001b[0mhook_result\u001b[0m \u001b[0;34m=\u001b[0m \u001b[0mhook\u001b[0m\u001b[0;34m(\u001b[0m\u001b[0mself\u001b[0m\u001b[0;34m,\u001b[0m \u001b[0minput\u001b[0m\u001b[0;34m,\u001b[0m \u001b[0mresult\u001b[0m\u001b[0;34m)\u001b[0m\u001b[0;34m\u001b[0m\u001b[0;34m\u001b[0m\u001b[0m\n",
      "\u001b[0;32m~/anaconda3/lib/python3.7/site-packages/torch/nn/modules/batchnorm.py\u001b[0m in \u001b[0;36mforward\u001b[0;34m(self, input)\u001b[0m\n\u001b[1;32m     70\u001b[0m             \u001b[0;31m# TODO: if statement only here to tell the jit to skip emitting this when it is None\u001b[0m\u001b[0;34m\u001b[0m\u001b[0;34m\u001b[0m\u001b[0;34m\u001b[0m\u001b[0m\n\u001b[1;32m     71\u001b[0m             \u001b[0;32mif\u001b[0m \u001b[0mself\u001b[0m\u001b[0;34m.\u001b[0m\u001b[0mnum_batches_tracked\u001b[0m \u001b[0;32mis\u001b[0m \u001b[0;32mnot\u001b[0m \u001b[0;32mNone\u001b[0m\u001b[0;34m:\u001b[0m\u001b[0;34m\u001b[0m\u001b[0;34m\u001b[0m\u001b[0m\n\u001b[0;32m---> 72\u001b[0;31m                 \u001b[0mself\u001b[0m\u001b[0;34m.\u001b[0m\u001b[0mnum_batches_tracked\u001b[0m \u001b[0;34m+=\u001b[0m \u001b[0;36m1\u001b[0m\u001b[0;34m\u001b[0m\u001b[0;34m\u001b[0m\u001b[0m\n\u001b[0m\u001b[1;32m     73\u001b[0m                 \u001b[0;32mif\u001b[0m \u001b[0mself\u001b[0m\u001b[0;34m.\u001b[0m\u001b[0mmomentum\u001b[0m \u001b[0;32mis\u001b[0m \u001b[0;32mNone\u001b[0m\u001b[0;34m:\u001b[0m  \u001b[0;31m# use cumulative moving average\u001b[0m\u001b[0;34m\u001b[0m\u001b[0;34m\u001b[0m\u001b[0m\n\u001b[1;32m     74\u001b[0m                     \u001b[0mexponential_average_factor\u001b[0m \u001b[0;34m=\u001b[0m \u001b[0;36m1.0\u001b[0m \u001b[0;34m/\u001b[0m \u001b[0mfloat\u001b[0m\u001b[0;34m(\u001b[0m\u001b[0mself\u001b[0m\u001b[0;34m.\u001b[0m\u001b[0mnum_batches_tracked\u001b[0m\u001b[0;34m)\u001b[0m\u001b[0;34m\u001b[0m\u001b[0;34m\u001b[0m\u001b[0m\n",
      "\u001b[0;31mKeyboardInterrupt\u001b[0m: "
     ]
    }
   ],
   "source": [
    "data = []\n",
    "for i in range(5):\n",
    "    model = resnet18(num_classes=1000).cuda()\n",
    "    load_model(model, '/home/rimmanni/imagenet/model_320_iter20_vartion4.pth')\n",
    "    model.classifier = nn.Linear(in_features=512, out_features=1, bias=True).cuda()\n",
    "    optimizer = create_optimizer(model, 0.01)\n",
    "    score, t = train_triangular_policy(model, optimizer, train_loader, valid_loader, valid_dataset,\n",
    "                                               loss_fn=F.binary_cross_entropy_with_logits, \n",
    "                                               dataset='rsna', binary=True, max_lr=0.01, epochs=15)\n",
    "    \n",
    "    data.append([score, t, 'rsna', 'resnet_full'])\n",
    "    "
   ]
  },
  {
   "cell_type": "code",
   "execution_count": 11,
   "metadata": {},
   "outputs": [
    {
     "data": {
      "text/plain": [
       "0.9630240124999999"
      ]
     },
     "execution_count": 11,
     "metadata": {},
     "output_type": "execute_result"
    }
   ],
   "source": [
    "np.mean([i[0] for i in data])"
   ]
  },
  {
   "cell_type": "markdown",
   "metadata": {},
   "source": [
    "### Full model"
   ]
  },
  {
   "cell_type": "code",
   "execution_count": 8,
   "metadata": {},
   "outputs": [
    {
     "name": "stdout",
     "output_type": "stream",
     "text": [
      "train_loss 0.386 val_loss 0.347 val_auc_score 0.917\n",
      "----End of step 0:01:06.514957\n",
      "train_loss 0.340 val_loss 0.367 val_auc_score 0.914\n",
      "----End of step 0:01:06.124663\n",
      "train_loss 0.327 val_loss 0.308 val_auc_score 0.927\n",
      "----End of step 0:01:06.627436\n",
      "train_loss 0.312 val_loss 0.299 val_auc_score 0.936\n",
      "----End of step 0:01:05.733443\n",
      "train_loss 0.297 val_loss 0.430 val_auc_score 0.934\n",
      "----End of step 0:01:06.027120\n",
      "train_loss 0.286 val_loss 0.293 val_auc_score 0.942\n",
      "----End of step 0:01:06.504117\n",
      "train_loss 0.277 val_loss 0.268 val_auc_score 0.948\n",
      "----End of step 0:01:03.994529\n",
      "train_loss 0.265 val_loss 0.288 val_auc_score 0.947\n",
      "----End of step 0:01:04.372324\n",
      "train_loss 0.252 val_loss 0.268 val_auc_score 0.949\n",
      "----End of step 0:01:04.997981\n",
      "train_loss 0.242 val_loss 0.277 val_auc_score 0.952\n",
      "----End of step 0:01:03.972736\n",
      "train_loss 0.229 val_loss 0.254 val_auc_score 0.955\n",
      "----End of step 0:01:04.483256\n",
      "train_loss 0.219 val_loss 0.248 val_auc_score 0.957\n",
      "----End of step 0:01:03.582000\n",
      "train_loss 0.210 val_loss 0.250 val_auc_score 0.958\n",
      "----End of step 0:01:01.685775\n",
      "train_loss 0.202 val_loss 0.246 val_auc_score 0.958\n",
      "----End of step 0:01:02.761972\n",
      "train_loss 0.198 val_loss 0.248 val_auc_score 0.959\n",
      "----End of step 0:01:02.942308\n",
      "train_loss 0.388 val_loss 0.344 val_auc_score 0.915\n",
      "----End of step 0:01:05.644596\n",
      "train_loss 0.340 val_loss 0.406 val_auc_score 0.920\n",
      "----End of step 0:01:02.693335\n",
      "train_loss 0.323 val_loss 0.327 val_auc_score 0.925\n",
      "----End of step 0:01:02.392586\n",
      "train_loss 0.310 val_loss 0.300 val_auc_score 0.936\n",
      "----End of step 0:01:02.039095\n",
      "train_loss 0.297 val_loss 0.333 val_auc_score 0.933\n",
      "----End of step 0:01:02.680281\n",
      "train_loss 0.284 val_loss 0.285 val_auc_score 0.942\n",
      "----End of step 0:01:03.431521\n",
      "train_loss 0.281 val_loss 0.275 val_auc_score 0.946\n",
      "----End of step 0:01:05.307670\n",
      "train_loss 0.267 val_loss 0.266 val_auc_score 0.949\n",
      "----End of step 0:01:06.395836\n",
      "train_loss 0.255 val_loss 0.267 val_auc_score 0.948\n",
      "----End of step 0:01:05.241336\n",
      "train_loss 0.244 val_loss 0.260 val_auc_score 0.951\n",
      "----End of step 0:01:06.680167\n",
      "train_loss 0.233 val_loss 0.255 val_auc_score 0.955\n",
      "----End of step 0:01:05.800628\n",
      "train_loss 0.220 val_loss 0.252 val_auc_score 0.956\n",
      "----End of step 0:01:05.840980\n",
      "train_loss 0.211 val_loss 0.255 val_auc_score 0.957\n",
      "----End of step 0:01:06.503263\n",
      "train_loss 0.203 val_loss 0.244 val_auc_score 0.958\n",
      "----End of step 0:01:06.149944\n",
      "train_loss 0.200 val_loss 0.246 val_auc_score 0.958\n",
      "----End of step 0:01:06.405155\n",
      "train_loss 0.386 val_loss 0.352 val_auc_score 0.908\n",
      "----End of step 0:01:06.061073\n",
      "train_loss 0.342 val_loss 0.326 val_auc_score 0.920\n",
      "----End of step 0:01:06.810446\n",
      "train_loss 0.325 val_loss 0.321 val_auc_score 0.933\n",
      "----End of step 0:01:06.380702\n",
      "train_loss 0.310 val_loss 0.322 val_auc_score 0.933\n",
      "----End of step 0:01:09.984290\n",
      "train_loss 0.295 val_loss 0.299 val_auc_score 0.936\n",
      "----End of step 0:01:06.330395\n",
      "train_loss 0.284 val_loss 0.283 val_auc_score 0.943\n",
      "----End of step 0:01:06.248755\n",
      "train_loss 0.278 val_loss 0.330 val_auc_score 0.942\n",
      "----End of step 0:01:05.905977\n",
      "train_loss 0.268 val_loss 0.269 val_auc_score 0.947\n",
      "----End of step 0:01:06.044335\n",
      "train_loss 0.250 val_loss 0.265 val_auc_score 0.951\n",
      "----End of step 0:01:08.521912\n",
      "train_loss 0.244 val_loss 0.267 val_auc_score 0.953\n",
      "----End of step 0:01:06.851222\n",
      "train_loss 0.230 val_loss 0.253 val_auc_score 0.955\n",
      "----End of step 0:01:06.153707\n",
      "train_loss 0.219 val_loss 0.249 val_auc_score 0.957\n",
      "----End of step 0:01:09.459889\n",
      "train_loss 0.209 val_loss 0.247 val_auc_score 0.958\n",
      "----End of step 0:01:07.374293\n",
      "train_loss 0.203 val_loss 0.243 val_auc_score 0.959\n",
      "----End of step 0:01:06.143828\n",
      "train_loss 0.201 val_loss 0.245 val_auc_score 0.959\n",
      "----End of step 0:01:06.979827\n",
      "train_loss 0.388 val_loss 0.406 val_auc_score 0.906\n",
      "----End of step 0:01:07.525468\n",
      "train_loss 0.337 val_loss 0.441 val_auc_score 0.911\n",
      "----End of step 0:01:06.231100\n",
      "train_loss 0.323 val_loss 0.314 val_auc_score 0.926\n",
      "----End of step 0:01:06.376196\n",
      "train_loss 0.308 val_loss 0.295 val_auc_score 0.937\n",
      "----End of step 0:01:06.360473\n",
      "train_loss 0.293 val_loss 0.323 val_auc_score 0.932\n",
      "----End of step 0:01:06.076414\n",
      "train_loss 0.285 val_loss 0.298 val_auc_score 0.936\n",
      "----End of step 0:01:06.528983\n",
      "train_loss 0.273 val_loss 0.271 val_auc_score 0.949\n",
      "----End of step 0:01:06.812042\n",
      "train_loss 0.265 val_loss 0.274 val_auc_score 0.950\n",
      "----End of step 0:01:07.177695\n",
      "train_loss 0.254 val_loss 0.270 val_auc_score 0.952\n",
      "----End of step 0:01:07.646209\n",
      "train_loss 0.243 val_loss 0.253 val_auc_score 0.955\n",
      "----End of step 0:01:05.396219\n",
      "train_loss 0.230 val_loss 0.256 val_auc_score 0.956\n",
      "----End of step 0:01:05.459253\n",
      "train_loss 0.221 val_loss 0.247 val_auc_score 0.957\n",
      "----End of step 0:01:05.835169\n",
      "train_loss 0.212 val_loss 0.255 val_auc_score 0.958\n",
      "----End of step 0:01:07.384734\n",
      "train_loss 0.202 val_loss 0.247 val_auc_score 0.959\n",
      "----End of step 0:01:05.670053\n",
      "train_loss 0.199 val_loss 0.244 val_auc_score 0.959\n",
      "----End of step 0:01:05.121651\n",
      "train_loss 0.388 val_loss 0.407 val_auc_score 0.884\n",
      "----End of step 0:01:06.933414\n",
      "train_loss 0.340 val_loss 0.329 val_auc_score 0.923\n",
      "----End of step 0:01:05.989338\n",
      "train_loss 0.323 val_loss 0.360 val_auc_score 0.921\n",
      "----End of step 0:01:06.433269\n",
      "train_loss 0.310 val_loss 0.319 val_auc_score 0.936\n",
      "----End of step 0:01:06.777542\n",
      "train_loss 0.301 val_loss 0.331 val_auc_score 0.920\n",
      "----End of step 0:01:06.776699\n",
      "train_loss 0.289 val_loss 0.320 val_auc_score 0.932\n",
      "----End of step 0:01:07.665639\n",
      "train_loss 0.277 val_loss 0.276 val_auc_score 0.947\n",
      "----End of step 0:01:05.902566\n",
      "train_loss 0.268 val_loss 0.283 val_auc_score 0.946\n",
      "----End of step 0:01:07.170562\n",
      "train_loss 0.255 val_loss 0.269 val_auc_score 0.947\n",
      "----End of step 0:01:06.497659\n",
      "train_loss 0.244 val_loss 0.274 val_auc_score 0.953\n",
      "----End of step 0:01:06.173311\n",
      "train_loss 0.232 val_loss 0.248 val_auc_score 0.956\n",
      "----End of step 0:01:06.288222\n",
      "train_loss 0.220 val_loss 0.247 val_auc_score 0.957\n",
      "----End of step 0:01:05.367943\n",
      "train_loss 0.212 val_loss 0.246 val_auc_score 0.958\n",
      "----End of step 0:01:08.010695\n",
      "train_loss 0.207 val_loss 0.249 val_auc_score 0.958\n",
      "----End of step 0:01:10.578981\n",
      "train_loss 0.202 val_loss 0.244 val_auc_score 0.959\n",
      "----End of step 0:01:06.474010\n"
     ]
    }
   ],
   "source": [
    "data = []\n",
    "for i in range(5):\n",
    "    model = resnet18(block=depthwise_block, num_classes=1000).cuda()\n",
    "    load_model(model, '/home/rimmanni/imagenet/model_320_iter20_770.pth')\n",
    "    model.classifier = nn.Linear(in_features=512, out_features=1, bias=True).cuda()\n",
    "    optimizer = create_optimizer(model, 0.01)\n",
    "    score, t = train_triangular_policy(model, optimizer, train_loader, valid_loader, valid_dataset,\n",
    "                                               loss_fn=F.binary_cross_entropy_with_logits, \n",
    "                                               dataset='rsna', binary=True, max_lr=0.01, epochs=15)\n",
    "    \n",
    "    data.append([score, t, 'rsna', 'resnet_full'])\n",
    "    "
   ]
  },
  {
   "cell_type": "markdown",
   "metadata": {},
   "source": [
    "#### 0.25_full_depth"
   ]
  },
  {
   "cell_type": "code",
   "execution_count": null,
   "metadata": {},
   "outputs": [
    {
     "name": "stdout",
     "output_type": "stream",
     "text": [
      "train_loss 0.428 val_loss 0.423 val_auc_score 0.886\n",
      "----End of step 0:01:05.453861\n",
      "train_loss 0.386 val_loss 0.383 val_auc_score 0.900\n",
      "----End of step 0:01:05.674658\n",
      "train_loss 0.363 val_loss 0.356 val_auc_score 0.906\n",
      "----End of step 0:01:04.539244\n",
      "train_loss 0.346 val_loss 0.366 val_auc_score 0.913\n",
      "----End of step 0:01:05.589687\n",
      "train_loss 0.331 val_loss 0.359 val_auc_score 0.911\n",
      "----End of step 0:01:06.526255\n",
      "train_loss 0.321 val_loss 0.308 val_auc_score 0.931\n",
      "----End of step 0:01:06.967242\n",
      "train_loss 0.313 val_loss 0.312 val_auc_score 0.932\n",
      "----End of step 0:01:05.179486\n",
      "train_loss 0.305 val_loss 0.301 val_auc_score 0.935\n",
      "----End of step 0:01:04.431044\n",
      "train_loss 0.295 val_loss 0.318 val_auc_score 0.935\n",
      "----End of step 0:01:06.666314\n",
      "train_loss 0.288 val_loss 0.306 val_auc_score 0.938\n",
      "----End of step 0:01:07.647505\n",
      "train_loss 0.278 val_loss 0.282 val_auc_score 0.943\n",
      "----End of step 0:01:06.385317\n",
      "train_loss 0.271 val_loss 0.287 val_auc_score 0.943\n",
      "----End of step 0:01:05.734866\n",
      "train_loss 0.264 val_loss 0.281 val_auc_score 0.944\n",
      "----End of step 0:01:06.134743\n",
      "train_loss 0.261 val_loss 0.283 val_auc_score 0.945\n",
      "----End of step 0:01:05.554935\n",
      "train_loss 0.258 val_loss 0.281 val_auc_score 0.945\n",
      "----End of step 0:01:06.383777\n",
      "train_loss 0.433 val_loss 0.395 val_auc_score 0.889\n",
      "----End of step 0:01:05.389895\n",
      "train_loss 0.387 val_loss 0.355 val_auc_score 0.909\n",
      "----End of step 0:01:06.613581\n",
      "train_loss 0.367 val_loss 0.387 val_auc_score 0.894\n",
      "----End of step 0:01:06.271954\n",
      "train_loss 0.346 val_loss 0.328 val_auc_score 0.922\n",
      "----End of step 0:01:04.896512\n",
      "train_loss 0.333 val_loss 0.323 val_auc_score 0.923\n",
      "----End of step 0:01:04.923767\n",
      "train_loss 0.322 val_loss 0.358 val_auc_score 0.922\n",
      "----End of step 0:01:05.713538\n",
      "train_loss 0.316 val_loss 0.317 val_auc_score 0.930\n",
      "----End of step 0:01:05.483390\n",
      "train_loss 0.307 val_loss 0.303 val_auc_score 0.932\n",
      "----End of step 0:01:04.286702\n",
      "train_loss 0.296 val_loss 0.299 val_auc_score 0.936\n",
      "----End of step 0:01:04.849347\n",
      "train_loss 0.286 val_loss 0.287 val_auc_score 0.940\n",
      "----End of step 0:01:05.772235\n",
      "train_loss 0.280 val_loss 0.287 val_auc_score 0.941\n",
      "----End of step 0:01:02.895664\n",
      "train_loss 0.272 val_loss 0.283 val_auc_score 0.942\n",
      "----End of step 0:01:03.718928\n",
      "train_loss 0.265 val_loss 0.284 val_auc_score 0.944\n",
      "----End of step 0:01:03.864869\n",
      "train_loss 0.261 val_loss 0.282 val_auc_score 0.945\n",
      "----End of step 0:01:02.639433\n",
      "train_loss 0.260 val_loss 0.283 val_auc_score 0.944\n",
      "----End of step 0:01:05.005961\n",
      "train_loss 0.426 val_loss 0.399 val_auc_score 0.883\n",
      "----End of step 0:01:04.694297\n",
      "train_loss 0.385 val_loss 0.410 val_auc_score 0.903\n",
      "----End of step 0:01:05.100831\n",
      "train_loss 0.364 val_loss 0.423 val_auc_score 0.903\n",
      "----End of step 0:01:05.568010\n",
      "train_loss 0.349 val_loss 0.332 val_auc_score 0.919\n",
      "----End of step 0:01:05.322789\n",
      "train_loss 0.337 val_loss 0.355 val_auc_score 0.916\n",
      "----End of step 0:01:09.026850\n",
      "train_loss 0.326 val_loss 0.318 val_auc_score 0.926\n",
      "----End of step 0:01:08.411665\n",
      "train_loss 0.313 val_loss 0.311 val_auc_score 0.931\n",
      "----End of step 0:01:08.969000\n"
     ]
    }
   ],
   "source": [
    "for i in range(5):\n",
    "    model = resnet18(num_classes=1000, block=depthwise_block, width_mult=0.25).cuda()\n",
    "    load_model(model, '/home/rimmanni/imagenet/res_depth_net_0_25_1_iter20.pth')\n",
    "    model.classifier = nn.Linear(in_features=512, out_features=1, bias=True).cuda()\n",
    "    optimizer = create_optimizer(model, 0.01)\n",
    "    score, t = train_triangular_policy(model, optimizer, train_loader, valid_loader, valid_dataset,\n",
    "                                       loss_fn=F.binary_cross_entropy_with_logits, \n",
    "                                       dataset='rsna', binary=True, max_lr=0.01, epochs=15)\n",
    "    \n",
    "    data.append([score, t, 'rsna', 'resnet_0_25_full_depth'])\n",
    "    "
   ]
  },
  {
   "cell_type": "markdown",
   "metadata": {},
   "source": [
    "#### 0_5_4"
   ]
  },
  {
   "cell_type": "code",
   "execution_count": null,
   "metadata": {},
   "outputs": [],
   "source": [
    "for i in range(5):\n",
    "    d = depths[4]\n",
    "    model = resnet18(num_classes=1000, block=depthwise_block, width_mult=0.5, \n",
    "                     inverted_residual_setting1=d[0], \n",
    "                     inverted_residual_setting2=d[1]).cuda()\n",
    "    load_model(model, '/home/rimmanni/imagenet/res_depth_net_0_5_4_iter20.pth')\n",
    "    model.classifier = nn.Linear(in_features=512, out_features=1, bias=True).cuda()\n",
    "    optimizer = create_optimizer(model, 0.01)\n",
    "    score, t = train_triangular_policy(model, optimizer, train_loader, valid_loader, valid_dataset,\n",
    "                                       loss_fn=F.binary_cross_entropy_with_logits, \n",
    "                                       dataset='rsna', binary=True, max_lr=0.01, epochs=15)\n",
    "    \n",
    "    data.append([score, t, 'rsna', 'resnet_0_5_4'])\n",
    "    "
   ]
  },
  {
   "cell_type": "markdown",
   "metadata": {},
   "source": [
    "#### 0_5_full_depth"
   ]
  },
  {
   "cell_type": "code",
   "execution_count": null,
   "metadata": {},
   "outputs": [],
   "source": [
    "for i in range(5):\n",
    "    model = resnet18(num_classes=1000, block=depthwise_block, width_mult=0.5).cuda()\n",
    "    load_model(model, '/home/rimmanni/imagenet/res_depth_net_0_5_1_iter20.pth')\n",
    "    model.classifier = nn.Linear(in_features=512, out_features=1, bias=True).cuda()\n",
    "    optimizer = create_optimizer(model, 0.01)\n",
    "    score, t = train_triangular_policy(model, optimizer, train_loader, valid_loader, valid_dataset,\n",
    "                                       loss_fn=F.binary_cross_entropy_with_logits, \n",
    "                                       dataset='rsna', binary=True, max_lr=0.01, epochs=15)\n",
    "    \n",
    "    data.append([score, t, 'rsna', 'resnet_0_5_full_depth'])\n",
    "    "
   ]
  },
  {
   "cell_type": "markdown",
   "metadata": {},
   "source": [
    "#### 0_75_4"
   ]
  },
  {
   "cell_type": "code",
   "execution_count": null,
   "metadata": {},
   "outputs": [],
   "source": [
    "for i in range(5):\n",
    "    d = depths[4]\n",
    "    model = resnet18(num_classes=1000, block=depthwise_block, width_mult=0.75, \n",
    "                     inverted_residual_setting1=d[0], \n",
    "                     inverted_residual_setting2=d[1]).cuda()\n",
    "    load_model(model, '/home/rimmanni/imagenet/res_depth_net_0_75_4_iter20.pth')\n",
    "    model.classifier = nn.Linear(in_features=512, out_features=1, bias=True).cuda()\n",
    "    optimizer = create_optimizer(model, 0.01)\n",
    "    score, t = train_triangular_policy(model, optimizer, train_loader, valid_loader, valid_dataset,\n",
    "                                       loss_fn=F.binary_cross_entropy_with_logits, \n",
    "                                       dataset='rsna', binary=True, max_lr=0.01, epochs=15)\n",
    "    \n",
    "    data.append([score, t, 'rsna', 'resnet_0_75_4'])\n",
    "    "
   ]
  },
  {
   "cell_type": "code",
   "execution_count": null,
   "metadata": {},
   "outputs": [],
   "source": [
    "columns = ['score', 'time', 'dataset', 'model']\n",
    "df = pd.DataFrame(data=data, columns=columns)"
   ]
  },
  {
   "cell_type": "code",
   "execution_count": null,
   "metadata": {},
   "outputs": [],
   "source": [
    "df.to_csv(\"rsna_resnet.csv\", index=False)"
   ]
  },
  {
   "cell_type": "code",
   "execution_count": null,
   "metadata": {},
   "outputs": [],
   "source": []
  }
 ],
 "metadata": {
  "kernelspec": {
   "display_name": "Python 3",
   "language": "python",
   "name": "python3"
  },
  "language_info": {
   "codemirror_mode": {
    "name": "ipython",
    "version": 3
   },
   "file_extension": ".py",
   "mimetype": "text/x-python",
   "name": "python",
   "nbconvert_exporter": "python",
   "pygments_lexer": "ipython3",
   "version": "3.7.4"
  }
 },
 "nbformat": 4,
 "nbformat_minor": 2
}
