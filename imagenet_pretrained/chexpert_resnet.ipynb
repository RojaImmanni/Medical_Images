{
 "cells": [
  {
   "cell_type": "code",
   "execution_count": 1,
   "metadata": {},
   "outputs": [
    {
     "name": "stdout",
     "output_type": "stream",
     "text": [
      "0\n"
     ]
    }
   ],
   "source": [
    "import torch\n",
    "torch.cuda.set_device(0)\n",
    "print(torch.cuda.current_device())"
   ]
  },
  {
   "cell_type": "code",
   "execution_count": 2,
   "metadata": {},
   "outputs": [],
   "source": [
    "%run ../architectures.py\n",
    "%run ../prepare_data.py"
   ]
  },
  {
   "cell_type": "code",
   "execution_count": 3,
   "metadata": {},
   "outputs": [],
   "source": [
    "batch_size = 32"
   ]
  },
  {
   "cell_type": "code",
   "execution_count": 4,
   "metadata": {},
   "outputs": [],
   "source": [
    "train_loader, valid_loader, valid_dataset = get_chexpert_dataloaders(batch_size)"
   ]
  },
  {
   "cell_type": "code",
   "execution_count": 5,
   "metadata": {},
   "outputs": [],
   "source": [
    "x, y = next(iter(train_loader))"
   ]
  },
  {
   "cell_type": "code",
   "execution_count": 6,
   "metadata": {},
   "outputs": [
    {
     "data": {
      "text/plain": [
       "(torch.Size([32, 3, 256, 256]), torch.Size([32, 5]))"
      ]
     },
     "execution_count": 6,
     "metadata": {},
     "output_type": "execute_result"
    }
   ],
   "source": [
    "x.shape, y.shape"
   ]
  },
  {
   "cell_type": "code",
   "execution_count": 7,
   "metadata": {},
   "outputs": [],
   "source": [
    "depths = [[[[64, 2], [128, 2]], [[256, 2], [512, 1]]],\n",
    "          [[[64, 2], [128, 2]], [[256, 1], [512, 1]]],\n",
    "          [[[64, 2], [128, 1]], [[256, 1], [512, 1]]],\n",
    "          [[[64, 2], [128, 1]], [[256, 2], [512, 1]]],\n",
    "          [[[64, 1], [128, 1]], [[256, 2], [512, 1]]],\n",
    "          [[[64, 1], [128, 1]], [[256, 1], [512, 1]]],\n",
    "         ]"
   ]
  },
  {
   "cell_type": "markdown",
   "metadata": {},
   "source": [
    "### Original"
   ]
  },
  {
   "cell_type": "code",
   "execution_count": 8,
   "metadata": {
    "collapsed": true
   },
   "outputs": [
    {
     "name": "stdout",
     "output_type": "stream",
     "text": [
      "train_loss 0.410 val_loss 0.398 val_auc_score 0.685\n",
      "----End of step 0:02:05.520137\n",
      "train_loss 0.373 val_loss 0.386 val_auc_score 0.711\n",
      "----End of step 0:01:26.412101\n",
      "train_loss 0.366 val_loss 0.384 val_auc_score 0.716\n",
      "----End of step 0:01:26.508389\n",
      "train_loss 0.361 val_loss 0.386 val_auc_score 0.720\n",
      "----End of step 0:01:26.967261\n",
      "train_loss 0.356 val_loss 0.383 val_auc_score 0.724\n",
      "----End of step 0:01:29.735745\n",
      "train_loss 0.352 val_loss 0.379 val_auc_score 0.724\n",
      "----End of step 0:01:29.156712\n",
      "train_loss 0.348 val_loss 0.380 val_auc_score 0.723\n",
      "----End of step 0:01:29.402110\n",
      "train_loss 0.342 val_loss 0.401 val_auc_score 0.725\n",
      "----End of step 0:01:29.455652\n",
      "train_loss 0.338 val_loss 0.393 val_auc_score 0.724\n",
      "----End of step 0:01:29.550269\n",
      "train_loss 0.330 val_loss 0.396 val_auc_score 0.723\n",
      "----End of step 0:01:29.615767\n",
      "train_loss 0.322 val_loss 0.404 val_auc_score 0.717\n",
      "----End of step 0:01:28.640515\n",
      "train_loss 0.314 val_loss 0.413 val_auc_score 0.716\n",
      "----End of step 0:01:28.406237\n",
      "train_loss 0.306 val_loss 0.429 val_auc_score 0.711\n",
      "----End of step 0:01:28.948778\n",
      "train_loss 0.299 val_loss 0.428 val_auc_score 0.709\n",
      "----End of step 0:01:28.982591\n",
      "train_loss 0.297 val_loss 0.427 val_auc_score 0.710\n",
      "----End of step 0:01:29.187671\n",
      "train_loss 0.411 val_loss 0.406 val_auc_score 0.684\n",
      "----End of step 0:01:29.266500\n",
      "train_loss 0.374 val_loss 0.384 val_auc_score 0.713\n",
      "----End of step 0:01:29.592512\n",
      "train_loss 0.366 val_loss 0.390 val_auc_score 0.716\n",
      "----End of step 0:01:29.444984\n",
      "train_loss 0.361 val_loss 0.381 val_auc_score 0.723\n",
      "----End of step 0:01:29.366491\n",
      "train_loss 0.356 val_loss 0.379 val_auc_score 0.726\n",
      "----End of step 0:01:29.855027\n",
      "train_loss 0.352 val_loss 0.380 val_auc_score 0.728\n",
      "----End of step 0:01:29.735813\n",
      "train_loss 0.348 val_loss 0.387 val_auc_score 0.726\n",
      "----End of step 0:01:29.515581\n",
      "train_loss 0.343 val_loss 0.384 val_auc_score 0.726\n",
      "----End of step 0:01:27.691165\n",
      "train_loss 0.337 val_loss 0.389 val_auc_score 0.725\n",
      "----End of step 0:01:26.932421\n",
      "train_loss 0.330 val_loss 0.403 val_auc_score 0.720\n",
      "----End of step 0:01:27.160827\n",
      "train_loss 0.322 val_loss 0.401 val_auc_score 0.718\n",
      "----End of step 0:01:27.362334\n",
      "train_loss 0.313 val_loss 0.417 val_auc_score 0.712\n",
      "----End of step 0:01:27.489249\n",
      "train_loss 0.305 val_loss 0.427 val_auc_score 0.707\n",
      "----End of step 0:01:28.565949\n",
      "train_loss 0.299 val_loss 0.432 val_auc_score 0.707\n",
      "----End of step 0:01:29.266215\n",
      "train_loss 0.295 val_loss 0.436 val_auc_score 0.705\n",
      "----End of step 0:01:29.708392\n",
      "train_loss 0.411 val_loss 0.394 val_auc_score 0.685\n",
      "----End of step 0:01:29.598321\n"
     ]
    },
    {
     "ename": "KeyboardInterrupt",
     "evalue": "",
     "output_type": "error",
     "traceback": [
      "\u001b[0;31m---------------------------------------------------------------------------\u001b[0m",
      "\u001b[0;31mKeyboardInterrupt\u001b[0m                         Traceback (most recent call last)",
      "\u001b[0;32m<ipython-input-8-cc57bade32dc>\u001b[0m in \u001b[0;36m<module>\u001b[0;34m\u001b[0m\n\u001b[1;32m      7\u001b[0m     score, t = train_triangular_policy(model, optimizer, train_loader, valid_loader, valid_dataset,\n\u001b[1;32m      8\u001b[0m                                                \u001b[0mloss_fn\u001b[0m\u001b[0;34m=\u001b[0m\u001b[0mF\u001b[0m\u001b[0;34m.\u001b[0m\u001b[0mbinary_cross_entropy_with_logits\u001b[0m\u001b[0;34m,\u001b[0m\u001b[0;34m\u001b[0m\u001b[0;34m\u001b[0m\u001b[0m\n\u001b[0;32m----> 9\u001b[0;31m                                                dataset='chexpert', binary=False, max_lr=0.001, epochs=15)\n\u001b[0m\u001b[1;32m     10\u001b[0m \u001b[0;34m\u001b[0m\u001b[0m\n\u001b[1;32m     11\u001b[0m     \u001b[0mdata\u001b[0m\u001b[0;34m.\u001b[0m\u001b[0mappend\u001b[0m\u001b[0;34m(\u001b[0m\u001b[0;34m[\u001b[0m\u001b[0mscore\u001b[0m\u001b[0;34m,\u001b[0m \u001b[0mt\u001b[0m\u001b[0;34m,\u001b[0m \u001b[0;34m'chexpert'\u001b[0m\u001b[0;34m,\u001b[0m \u001b[0;34m'resnet_full'\u001b[0m\u001b[0;34m]\u001b[0m\u001b[0;34m)\u001b[0m\u001b[0;34m\u001b[0m\u001b[0;34m\u001b[0m\u001b[0m\n",
      "\u001b[0;32m~/Medical_Images/training.py\u001b[0m in \u001b[0;36mtrain_triangular_policy\u001b[0;34m(model, optimizer, train_dl, valid_dl, valid_dataset, loss_fn, dataset, binary, max_lr, epochs)\u001b[0m\n\u001b[1;32m     24\u001b[0m \u001b[0;34m\u001b[0m\u001b[0m\n\u001b[1;32m     25\u001b[0m             \u001b[0;32mif\u001b[0m \u001b[0mbinary\u001b[0m\u001b[0;34m:\u001b[0m \u001b[0mout\u001b[0m \u001b[0;34m=\u001b[0m \u001b[0mmodel\u001b[0m\u001b[0;34m(\u001b[0m\u001b[0mx\u001b[0m\u001b[0;34m)\u001b[0m\u001b[0;34m.\u001b[0m\u001b[0mview\u001b[0m\u001b[0;34m(\u001b[0m\u001b[0;34m-\u001b[0m\u001b[0;36m1\u001b[0m\u001b[0;34m)\u001b[0m\u001b[0;34m\u001b[0m\u001b[0;34m\u001b[0m\u001b[0m\n\u001b[0;32m---> 26\u001b[0;31m             \u001b[0;32melse\u001b[0m\u001b[0;34m:\u001b[0m \u001b[0mout\u001b[0m \u001b[0;34m=\u001b[0m \u001b[0mmodel\u001b[0m\u001b[0;34m(\u001b[0m\u001b[0mx\u001b[0m\u001b[0;34m)\u001b[0m\u001b[0;34m\u001b[0m\u001b[0;34m\u001b[0m\u001b[0m\n\u001b[0m\u001b[1;32m     27\u001b[0m \u001b[0;34m\u001b[0m\u001b[0m\n\u001b[1;32m     28\u001b[0m             \u001b[0mloss\u001b[0m \u001b[0;34m=\u001b[0m \u001b[0mloss_fn\u001b[0m\u001b[0;34m(\u001b[0m\u001b[0mout\u001b[0m\u001b[0;34m,\u001b[0m \u001b[0my\u001b[0m\u001b[0;34m.\u001b[0m\u001b[0mfloat\u001b[0m\u001b[0;34m(\u001b[0m\u001b[0;34m)\u001b[0m\u001b[0;34m)\u001b[0m\u001b[0;34m\u001b[0m\u001b[0;34m\u001b[0m\u001b[0m\n",
      "\u001b[0;32m~/anaconda3/lib/python3.7/site-packages/torch/nn/modules/module.py\u001b[0m in \u001b[0;36m__call__\u001b[0;34m(self, *input, **kwargs)\u001b[0m\n\u001b[1;32m    539\u001b[0m             \u001b[0mresult\u001b[0m \u001b[0;34m=\u001b[0m \u001b[0mself\u001b[0m\u001b[0;34m.\u001b[0m\u001b[0m_slow_forward\u001b[0m\u001b[0;34m(\u001b[0m\u001b[0;34m*\u001b[0m\u001b[0minput\u001b[0m\u001b[0;34m,\u001b[0m \u001b[0;34m**\u001b[0m\u001b[0mkwargs\u001b[0m\u001b[0;34m)\u001b[0m\u001b[0;34m\u001b[0m\u001b[0;34m\u001b[0m\u001b[0m\n\u001b[1;32m    540\u001b[0m         \u001b[0;32melse\u001b[0m\u001b[0;34m:\u001b[0m\u001b[0;34m\u001b[0m\u001b[0;34m\u001b[0m\u001b[0m\n\u001b[0;32m--> 541\u001b[0;31m             \u001b[0mresult\u001b[0m \u001b[0;34m=\u001b[0m \u001b[0mself\u001b[0m\u001b[0;34m.\u001b[0m\u001b[0mforward\u001b[0m\u001b[0;34m(\u001b[0m\u001b[0;34m*\u001b[0m\u001b[0minput\u001b[0m\u001b[0;34m,\u001b[0m \u001b[0;34m**\u001b[0m\u001b[0mkwargs\u001b[0m\u001b[0;34m)\u001b[0m\u001b[0;34m\u001b[0m\u001b[0;34m\u001b[0m\u001b[0m\n\u001b[0m\u001b[1;32m    542\u001b[0m         \u001b[0;32mfor\u001b[0m \u001b[0mhook\u001b[0m \u001b[0;32min\u001b[0m \u001b[0mself\u001b[0m\u001b[0;34m.\u001b[0m\u001b[0m_forward_hooks\u001b[0m\u001b[0;34m.\u001b[0m\u001b[0mvalues\u001b[0m\u001b[0;34m(\u001b[0m\u001b[0;34m)\u001b[0m\u001b[0;34m:\u001b[0m\u001b[0;34m\u001b[0m\u001b[0;34m\u001b[0m\u001b[0m\n\u001b[1;32m    543\u001b[0m             \u001b[0mhook_result\u001b[0m \u001b[0;34m=\u001b[0m \u001b[0mhook\u001b[0m\u001b[0;34m(\u001b[0m\u001b[0mself\u001b[0m\u001b[0;34m,\u001b[0m \u001b[0minput\u001b[0m\u001b[0;34m,\u001b[0m \u001b[0mresult\u001b[0m\u001b[0;34m)\u001b[0m\u001b[0;34m\u001b[0m\u001b[0;34m\u001b[0m\u001b[0m\n",
      "\u001b[0;32m~/Medical_Images/architectures.py\u001b[0m in \u001b[0;36mforward\u001b[0;34m(self, x)\u001b[0m\n\u001b[1;32m    197\u001b[0m \u001b[0;34m\u001b[0m\u001b[0m\n\u001b[1;32m    198\u001b[0m     \u001b[0;32mdef\u001b[0m \u001b[0mforward\u001b[0m\u001b[0;34m(\u001b[0m\u001b[0mself\u001b[0m\u001b[0;34m,\u001b[0m \u001b[0mx\u001b[0m\u001b[0;34m)\u001b[0m\u001b[0;34m:\u001b[0m\u001b[0;34m\u001b[0m\u001b[0;34m\u001b[0m\u001b[0m\n\u001b[0;32m--> 199\u001b[0;31m         \u001b[0mx\u001b[0m \u001b[0;34m=\u001b[0m \u001b[0mself\u001b[0m\u001b[0;34m.\u001b[0m\u001b[0mfeatures1\u001b[0m\u001b[0;34m(\u001b[0m\u001b[0mx\u001b[0m\u001b[0;34m)\u001b[0m\u001b[0;34m\u001b[0m\u001b[0;34m\u001b[0m\u001b[0m\n\u001b[0m\u001b[1;32m    200\u001b[0m         \u001b[0mx\u001b[0m \u001b[0;34m=\u001b[0m \u001b[0mself\u001b[0m\u001b[0;34m.\u001b[0m\u001b[0mfeatures2\u001b[0m\u001b[0;34m(\u001b[0m\u001b[0mx\u001b[0m\u001b[0;34m)\u001b[0m\u001b[0;34m\u001b[0m\u001b[0;34m\u001b[0m\u001b[0m\n\u001b[1;32m    201\u001b[0m         \u001b[0mx\u001b[0m \u001b[0;34m=\u001b[0m \u001b[0mself\u001b[0m\u001b[0;34m.\u001b[0m\u001b[0mavgpool\u001b[0m\u001b[0;34m(\u001b[0m\u001b[0mx\u001b[0m\u001b[0;34m)\u001b[0m\u001b[0;34m\u001b[0m\u001b[0;34m\u001b[0m\u001b[0m\n",
      "\u001b[0;32m~/anaconda3/lib/python3.7/site-packages/torch/nn/modules/module.py\u001b[0m in \u001b[0;36m__call__\u001b[0;34m(self, *input, **kwargs)\u001b[0m\n\u001b[1;32m    539\u001b[0m             \u001b[0mresult\u001b[0m \u001b[0;34m=\u001b[0m \u001b[0mself\u001b[0m\u001b[0;34m.\u001b[0m\u001b[0m_slow_forward\u001b[0m\u001b[0;34m(\u001b[0m\u001b[0;34m*\u001b[0m\u001b[0minput\u001b[0m\u001b[0;34m,\u001b[0m \u001b[0;34m**\u001b[0m\u001b[0mkwargs\u001b[0m\u001b[0;34m)\u001b[0m\u001b[0;34m\u001b[0m\u001b[0;34m\u001b[0m\u001b[0m\n\u001b[1;32m    540\u001b[0m         \u001b[0;32melse\u001b[0m\u001b[0;34m:\u001b[0m\u001b[0;34m\u001b[0m\u001b[0;34m\u001b[0m\u001b[0m\n\u001b[0;32m--> 541\u001b[0;31m             \u001b[0mresult\u001b[0m \u001b[0;34m=\u001b[0m \u001b[0mself\u001b[0m\u001b[0;34m.\u001b[0m\u001b[0mforward\u001b[0m\u001b[0;34m(\u001b[0m\u001b[0;34m*\u001b[0m\u001b[0minput\u001b[0m\u001b[0;34m,\u001b[0m \u001b[0;34m**\u001b[0m\u001b[0mkwargs\u001b[0m\u001b[0;34m)\u001b[0m\u001b[0;34m\u001b[0m\u001b[0;34m\u001b[0m\u001b[0m\n\u001b[0m\u001b[1;32m    542\u001b[0m         \u001b[0;32mfor\u001b[0m \u001b[0mhook\u001b[0m \u001b[0;32min\u001b[0m \u001b[0mself\u001b[0m\u001b[0;34m.\u001b[0m\u001b[0m_forward_hooks\u001b[0m\u001b[0;34m.\u001b[0m\u001b[0mvalues\u001b[0m\u001b[0;34m(\u001b[0m\u001b[0;34m)\u001b[0m\u001b[0;34m:\u001b[0m\u001b[0;34m\u001b[0m\u001b[0;34m\u001b[0m\u001b[0m\n\u001b[1;32m    543\u001b[0m             \u001b[0mhook_result\u001b[0m \u001b[0;34m=\u001b[0m \u001b[0mhook\u001b[0m\u001b[0;34m(\u001b[0m\u001b[0mself\u001b[0m\u001b[0;34m,\u001b[0m \u001b[0minput\u001b[0m\u001b[0;34m,\u001b[0m \u001b[0mresult\u001b[0m\u001b[0;34m)\u001b[0m\u001b[0;34m\u001b[0m\u001b[0;34m\u001b[0m\u001b[0m\n",
      "\u001b[0;32m~/anaconda3/lib/python3.7/site-packages/torch/nn/modules/container.py\u001b[0m in \u001b[0;36mforward\u001b[0;34m(self, input)\u001b[0m\n\u001b[1;32m     90\u001b[0m     \u001b[0;32mdef\u001b[0m \u001b[0mforward\u001b[0m\u001b[0;34m(\u001b[0m\u001b[0mself\u001b[0m\u001b[0;34m,\u001b[0m \u001b[0minput\u001b[0m\u001b[0;34m)\u001b[0m\u001b[0;34m:\u001b[0m\u001b[0;34m\u001b[0m\u001b[0;34m\u001b[0m\u001b[0m\n\u001b[1;32m     91\u001b[0m         \u001b[0;32mfor\u001b[0m \u001b[0mmodule\u001b[0m \u001b[0;32min\u001b[0m \u001b[0mself\u001b[0m\u001b[0;34m.\u001b[0m\u001b[0m_modules\u001b[0m\u001b[0;34m.\u001b[0m\u001b[0mvalues\u001b[0m\u001b[0;34m(\u001b[0m\u001b[0;34m)\u001b[0m\u001b[0;34m:\u001b[0m\u001b[0;34m\u001b[0m\u001b[0;34m\u001b[0m\u001b[0m\n\u001b[0;32m---> 92\u001b[0;31m             \u001b[0minput\u001b[0m \u001b[0;34m=\u001b[0m \u001b[0mmodule\u001b[0m\u001b[0;34m(\u001b[0m\u001b[0minput\u001b[0m\u001b[0;34m)\u001b[0m\u001b[0;34m\u001b[0m\u001b[0;34m\u001b[0m\u001b[0m\n\u001b[0m\u001b[1;32m     93\u001b[0m         \u001b[0;32mreturn\u001b[0m \u001b[0minput\u001b[0m\u001b[0;34m\u001b[0m\u001b[0;34m\u001b[0m\u001b[0m\n\u001b[1;32m     94\u001b[0m \u001b[0;34m\u001b[0m\u001b[0m\n",
      "\u001b[0;32m~/anaconda3/lib/python3.7/site-packages/torch/nn/modules/module.py\u001b[0m in \u001b[0;36m__call__\u001b[0;34m(self, *input, **kwargs)\u001b[0m\n\u001b[1;32m    539\u001b[0m             \u001b[0mresult\u001b[0m \u001b[0;34m=\u001b[0m \u001b[0mself\u001b[0m\u001b[0;34m.\u001b[0m\u001b[0m_slow_forward\u001b[0m\u001b[0;34m(\u001b[0m\u001b[0;34m*\u001b[0m\u001b[0minput\u001b[0m\u001b[0;34m,\u001b[0m \u001b[0;34m**\u001b[0m\u001b[0mkwargs\u001b[0m\u001b[0;34m)\u001b[0m\u001b[0;34m\u001b[0m\u001b[0;34m\u001b[0m\u001b[0m\n\u001b[1;32m    540\u001b[0m         \u001b[0;32melse\u001b[0m\u001b[0;34m:\u001b[0m\u001b[0;34m\u001b[0m\u001b[0;34m\u001b[0m\u001b[0m\n\u001b[0;32m--> 541\u001b[0;31m             \u001b[0mresult\u001b[0m \u001b[0;34m=\u001b[0m \u001b[0mself\u001b[0m\u001b[0;34m.\u001b[0m\u001b[0mforward\u001b[0m\u001b[0;34m(\u001b[0m\u001b[0;34m*\u001b[0m\u001b[0minput\u001b[0m\u001b[0;34m,\u001b[0m \u001b[0;34m**\u001b[0m\u001b[0mkwargs\u001b[0m\u001b[0;34m)\u001b[0m\u001b[0;34m\u001b[0m\u001b[0;34m\u001b[0m\u001b[0m\n\u001b[0m\u001b[1;32m    542\u001b[0m         \u001b[0;32mfor\u001b[0m \u001b[0mhook\u001b[0m \u001b[0;32min\u001b[0m \u001b[0mself\u001b[0m\u001b[0;34m.\u001b[0m\u001b[0m_forward_hooks\u001b[0m\u001b[0;34m.\u001b[0m\u001b[0mvalues\u001b[0m\u001b[0;34m(\u001b[0m\u001b[0;34m)\u001b[0m\u001b[0;34m:\u001b[0m\u001b[0;34m\u001b[0m\u001b[0;34m\u001b[0m\u001b[0m\n\u001b[1;32m    543\u001b[0m             \u001b[0mhook_result\u001b[0m \u001b[0;34m=\u001b[0m \u001b[0mhook\u001b[0m\u001b[0;34m(\u001b[0m\u001b[0mself\u001b[0m\u001b[0;34m,\u001b[0m \u001b[0minput\u001b[0m\u001b[0;34m,\u001b[0m \u001b[0mresult\u001b[0m\u001b[0;34m)\u001b[0m\u001b[0;34m\u001b[0m\u001b[0;34m\u001b[0m\u001b[0m\n",
      "\u001b[0;32m~/Medical_Images/architectures.py\u001b[0m in \u001b[0;36mforward\u001b[0;34m(self, x)\u001b[0m\n\u001b[1;32m    129\u001b[0m     \u001b[0;32mdef\u001b[0m \u001b[0mforward\u001b[0m\u001b[0;34m(\u001b[0m\u001b[0mself\u001b[0m\u001b[0;34m,\u001b[0m \u001b[0mx\u001b[0m\u001b[0;34m)\u001b[0m\u001b[0;34m:\u001b[0m\u001b[0;34m\u001b[0m\u001b[0;34m\u001b[0m\u001b[0m\n\u001b[1;32m    130\u001b[0m         \u001b[0;32mif\u001b[0m \u001b[0mself\u001b[0m\u001b[0;34m.\u001b[0m\u001b[0mapply_shortcut\u001b[0m\u001b[0;34m:\u001b[0m\u001b[0;34m\u001b[0m\u001b[0;34m\u001b[0m\u001b[0m\n\u001b[0;32m--> 131\u001b[0;31m             \u001b[0;32mreturn\u001b[0m \u001b[0mself\u001b[0m\u001b[0;34m.\u001b[0m\u001b[0mrelu\u001b[0m\u001b[0;34m(\u001b[0m\u001b[0mself\u001b[0m\u001b[0;34m.\u001b[0m\u001b[0mshortcut\u001b[0m\u001b[0;34m(\u001b[0m\u001b[0mx\u001b[0m\u001b[0;34m)\u001b[0m \u001b[0;34m+\u001b[0m \u001b[0mself\u001b[0m\u001b[0;34m.\u001b[0m\u001b[0mlayers\u001b[0m\u001b[0;34m(\u001b[0m\u001b[0mx\u001b[0m\u001b[0;34m)\u001b[0m\u001b[0;34m)\u001b[0m\u001b[0;34m\u001b[0m\u001b[0;34m\u001b[0m\u001b[0m\n\u001b[0m\u001b[1;32m    132\u001b[0m         \u001b[0;32melse\u001b[0m\u001b[0;34m:\u001b[0m\u001b[0;34m\u001b[0m\u001b[0;34m\u001b[0m\u001b[0m\n\u001b[1;32m    133\u001b[0m             \u001b[0;32mreturn\u001b[0m \u001b[0mself\u001b[0m\u001b[0;34m.\u001b[0m\u001b[0mrelu\u001b[0m\u001b[0;34m(\u001b[0m\u001b[0mx\u001b[0m \u001b[0;34m+\u001b[0m \u001b[0mself\u001b[0m\u001b[0;34m.\u001b[0m\u001b[0mlayers\u001b[0m\u001b[0;34m(\u001b[0m\u001b[0mx\u001b[0m\u001b[0;34m)\u001b[0m\u001b[0;34m)\u001b[0m\u001b[0;34m\u001b[0m\u001b[0;34m\u001b[0m\u001b[0m\n",
      "\u001b[0;32m~/anaconda3/lib/python3.7/site-packages/torch/nn/modules/module.py\u001b[0m in \u001b[0;36m__call__\u001b[0;34m(self, *input, **kwargs)\u001b[0m\n\u001b[1;32m    539\u001b[0m             \u001b[0mresult\u001b[0m \u001b[0;34m=\u001b[0m \u001b[0mself\u001b[0m\u001b[0;34m.\u001b[0m\u001b[0m_slow_forward\u001b[0m\u001b[0;34m(\u001b[0m\u001b[0;34m*\u001b[0m\u001b[0minput\u001b[0m\u001b[0;34m,\u001b[0m \u001b[0;34m**\u001b[0m\u001b[0mkwargs\u001b[0m\u001b[0;34m)\u001b[0m\u001b[0;34m\u001b[0m\u001b[0;34m\u001b[0m\u001b[0m\n\u001b[1;32m    540\u001b[0m         \u001b[0;32melse\u001b[0m\u001b[0;34m:\u001b[0m\u001b[0;34m\u001b[0m\u001b[0;34m\u001b[0m\u001b[0m\n\u001b[0;32m--> 541\u001b[0;31m             \u001b[0mresult\u001b[0m \u001b[0;34m=\u001b[0m \u001b[0mself\u001b[0m\u001b[0;34m.\u001b[0m\u001b[0mforward\u001b[0m\u001b[0;34m(\u001b[0m\u001b[0;34m*\u001b[0m\u001b[0minput\u001b[0m\u001b[0;34m,\u001b[0m \u001b[0;34m**\u001b[0m\u001b[0mkwargs\u001b[0m\u001b[0;34m)\u001b[0m\u001b[0;34m\u001b[0m\u001b[0;34m\u001b[0m\u001b[0m\n\u001b[0m\u001b[1;32m    542\u001b[0m         \u001b[0;32mfor\u001b[0m \u001b[0mhook\u001b[0m \u001b[0;32min\u001b[0m \u001b[0mself\u001b[0m\u001b[0;34m.\u001b[0m\u001b[0m_forward_hooks\u001b[0m\u001b[0;34m.\u001b[0m\u001b[0mvalues\u001b[0m\u001b[0;34m(\u001b[0m\u001b[0;34m)\u001b[0m\u001b[0;34m:\u001b[0m\u001b[0;34m\u001b[0m\u001b[0;34m\u001b[0m\u001b[0m\n\u001b[1;32m    543\u001b[0m             \u001b[0mhook_result\u001b[0m \u001b[0;34m=\u001b[0m \u001b[0mhook\u001b[0m\u001b[0;34m(\u001b[0m\u001b[0mself\u001b[0m\u001b[0;34m,\u001b[0m \u001b[0minput\u001b[0m\u001b[0;34m,\u001b[0m \u001b[0mresult\u001b[0m\u001b[0;34m)\u001b[0m\u001b[0;34m\u001b[0m\u001b[0;34m\u001b[0m\u001b[0m\n",
      "\u001b[0;32m~/anaconda3/lib/python3.7/site-packages/torch/nn/modules/container.py\u001b[0m in \u001b[0;36mforward\u001b[0;34m(self, input)\u001b[0m\n\u001b[1;32m     90\u001b[0m     \u001b[0;32mdef\u001b[0m \u001b[0mforward\u001b[0m\u001b[0;34m(\u001b[0m\u001b[0mself\u001b[0m\u001b[0;34m,\u001b[0m \u001b[0minput\u001b[0m\u001b[0;34m)\u001b[0m\u001b[0;34m:\u001b[0m\u001b[0;34m\u001b[0m\u001b[0;34m\u001b[0m\u001b[0m\n\u001b[1;32m     91\u001b[0m         \u001b[0;32mfor\u001b[0m \u001b[0mmodule\u001b[0m \u001b[0;32min\u001b[0m \u001b[0mself\u001b[0m\u001b[0;34m.\u001b[0m\u001b[0m_modules\u001b[0m\u001b[0;34m.\u001b[0m\u001b[0mvalues\u001b[0m\u001b[0;34m(\u001b[0m\u001b[0;34m)\u001b[0m\u001b[0;34m:\u001b[0m\u001b[0;34m\u001b[0m\u001b[0;34m\u001b[0m\u001b[0m\n\u001b[0;32m---> 92\u001b[0;31m             \u001b[0minput\u001b[0m \u001b[0;34m=\u001b[0m \u001b[0mmodule\u001b[0m\u001b[0;34m(\u001b[0m\u001b[0minput\u001b[0m\u001b[0;34m)\u001b[0m\u001b[0;34m\u001b[0m\u001b[0;34m\u001b[0m\u001b[0m\n\u001b[0m\u001b[1;32m     93\u001b[0m         \u001b[0;32mreturn\u001b[0m \u001b[0minput\u001b[0m\u001b[0;34m\u001b[0m\u001b[0;34m\u001b[0m\u001b[0m\n\u001b[1;32m     94\u001b[0m \u001b[0;34m\u001b[0m\u001b[0m\n",
      "\u001b[0;32m~/anaconda3/lib/python3.7/site-packages/torch/nn/modules/module.py\u001b[0m in \u001b[0;36m__call__\u001b[0;34m(self, *input, **kwargs)\u001b[0m\n\u001b[1;32m    539\u001b[0m             \u001b[0mresult\u001b[0m \u001b[0;34m=\u001b[0m \u001b[0mself\u001b[0m\u001b[0;34m.\u001b[0m\u001b[0m_slow_forward\u001b[0m\u001b[0;34m(\u001b[0m\u001b[0;34m*\u001b[0m\u001b[0minput\u001b[0m\u001b[0;34m,\u001b[0m \u001b[0;34m**\u001b[0m\u001b[0mkwargs\u001b[0m\u001b[0;34m)\u001b[0m\u001b[0;34m\u001b[0m\u001b[0;34m\u001b[0m\u001b[0m\n\u001b[1;32m    540\u001b[0m         \u001b[0;32melse\u001b[0m\u001b[0;34m:\u001b[0m\u001b[0;34m\u001b[0m\u001b[0;34m\u001b[0m\u001b[0m\n\u001b[0;32m--> 541\u001b[0;31m             \u001b[0mresult\u001b[0m \u001b[0;34m=\u001b[0m \u001b[0mself\u001b[0m\u001b[0;34m.\u001b[0m\u001b[0mforward\u001b[0m\u001b[0;34m(\u001b[0m\u001b[0;34m*\u001b[0m\u001b[0minput\u001b[0m\u001b[0;34m,\u001b[0m \u001b[0;34m**\u001b[0m\u001b[0mkwargs\u001b[0m\u001b[0;34m)\u001b[0m\u001b[0;34m\u001b[0m\u001b[0;34m\u001b[0m\u001b[0m\n\u001b[0m\u001b[1;32m    542\u001b[0m         \u001b[0;32mfor\u001b[0m \u001b[0mhook\u001b[0m \u001b[0;32min\u001b[0m \u001b[0mself\u001b[0m\u001b[0;34m.\u001b[0m\u001b[0m_forward_hooks\u001b[0m\u001b[0;34m.\u001b[0m\u001b[0mvalues\u001b[0m\u001b[0;34m(\u001b[0m\u001b[0;34m)\u001b[0m\u001b[0;34m:\u001b[0m\u001b[0;34m\u001b[0m\u001b[0;34m\u001b[0m\u001b[0m\n\u001b[1;32m    543\u001b[0m             \u001b[0mhook_result\u001b[0m \u001b[0;34m=\u001b[0m \u001b[0mhook\u001b[0m\u001b[0;34m(\u001b[0m\u001b[0mself\u001b[0m\u001b[0;34m,\u001b[0m \u001b[0minput\u001b[0m\u001b[0;34m,\u001b[0m \u001b[0mresult\u001b[0m\u001b[0;34m)\u001b[0m\u001b[0;34m\u001b[0m\u001b[0;34m\u001b[0m\u001b[0m\n",
      "\u001b[0;32m~/anaconda3/lib/python3.7/site-packages/torch/nn/modules/conv.py\u001b[0m in \u001b[0;36mforward\u001b[0;34m(self, input)\u001b[0m\n\u001b[1;32m    343\u001b[0m \u001b[0;34m\u001b[0m\u001b[0m\n\u001b[1;32m    344\u001b[0m     \u001b[0;32mdef\u001b[0m \u001b[0mforward\u001b[0m\u001b[0;34m(\u001b[0m\u001b[0mself\u001b[0m\u001b[0;34m,\u001b[0m \u001b[0minput\u001b[0m\u001b[0;34m)\u001b[0m\u001b[0;34m:\u001b[0m\u001b[0;34m\u001b[0m\u001b[0;34m\u001b[0m\u001b[0m\n\u001b[0;32m--> 345\u001b[0;31m         \u001b[0;32mreturn\u001b[0m \u001b[0mself\u001b[0m\u001b[0;34m.\u001b[0m\u001b[0mconv2d_forward\u001b[0m\u001b[0;34m(\u001b[0m\u001b[0minput\u001b[0m\u001b[0;34m,\u001b[0m \u001b[0mself\u001b[0m\u001b[0;34m.\u001b[0m\u001b[0mweight\u001b[0m\u001b[0;34m)\u001b[0m\u001b[0;34m\u001b[0m\u001b[0;34m\u001b[0m\u001b[0m\n\u001b[0m\u001b[1;32m    346\u001b[0m \u001b[0;34m\u001b[0m\u001b[0m\n\u001b[1;32m    347\u001b[0m \u001b[0;32mclass\u001b[0m \u001b[0mConv3d\u001b[0m\u001b[0;34m(\u001b[0m\u001b[0m_ConvNd\u001b[0m\u001b[0;34m)\u001b[0m\u001b[0;34m:\u001b[0m\u001b[0;34m\u001b[0m\u001b[0;34m\u001b[0m\u001b[0m\n",
      "\u001b[0;32m~/anaconda3/lib/python3.7/site-packages/torch/nn/modules/conv.py\u001b[0m in \u001b[0;36mconv2d_forward\u001b[0;34m(self, input, weight)\u001b[0m\n\u001b[1;32m    340\u001b[0m                             _pair(0), self.dilation, self.groups)\n\u001b[1;32m    341\u001b[0m         return F.conv2d(input, weight, self.bias, self.stride,\n\u001b[0;32m--> 342\u001b[0;31m                         self.padding, self.dilation, self.groups)\n\u001b[0m\u001b[1;32m    343\u001b[0m \u001b[0;34m\u001b[0m\u001b[0m\n\u001b[1;32m    344\u001b[0m     \u001b[0;32mdef\u001b[0m \u001b[0mforward\u001b[0m\u001b[0;34m(\u001b[0m\u001b[0mself\u001b[0m\u001b[0;34m,\u001b[0m \u001b[0minput\u001b[0m\u001b[0;34m)\u001b[0m\u001b[0;34m:\u001b[0m\u001b[0;34m\u001b[0m\u001b[0;34m\u001b[0m\u001b[0m\n",
      "\u001b[0;31mKeyboardInterrupt\u001b[0m: "
     ]
    }
   ],
   "source": [
    "data = []\n",
    "for i in range(5):\n",
    "    model = resnet18(num_classes=1000).cuda()\n",
    "    load_model(model, '/home/rimmanni/imagenet/model_320_iter20_vartion4.pth')\n",
    "    model.classifier = nn.Linear(in_features=512, out_features=5, bias=True).cuda()\n",
    "    optimizer = create_optimizer(model, 0.001)\n",
    "    score, t = train_triangular_policy(model, optimizer, train_loader, valid_loader, valid_dataset,\n",
    "                                               loss_fn=F.binary_cross_entropy_with_logits, \n",
    "                                               dataset='chexpert', binary=False, max_lr=0.001, epochs=15)\n",
    "    \n",
    "    data.append([score, t, 'chexpert', 'resnet_full'])\n",
    "    "
   ]
  },
  {
   "cell_type": "code",
   "execution_count": 9,
   "metadata": {},
   "outputs": [
    {
     "data": {
      "text/plain": [
       "0.7074354362255079"
      ]
     },
     "execution_count": 9,
     "metadata": {},
     "output_type": "execute_result"
    }
   ],
   "source": [
    "np.mean([i[0] for i in data])"
   ]
  },
  {
   "cell_type": "markdown",
   "metadata": {},
   "source": [
    "### Full model"
   ]
  },
  {
   "cell_type": "code",
   "execution_count": 8,
   "metadata": {},
   "outputs": [
    {
     "name": "stdout",
     "output_type": "stream",
     "text": [
      "train_loss 0.422 val_loss 0.407 val_auc_score 0.650\n",
      "----End of step 0:01:03.054496\n",
      "train_loss 0.387 val_loss 0.397 val_auc_score 0.694\n",
      "----End of step 0:01:04.444050\n",
      "train_loss 0.377 val_loss 0.389 val_auc_score 0.702\n",
      "----End of step 0:01:04.628770\n",
      "train_loss 0.371 val_loss 0.385 val_auc_score 0.708\n",
      "----End of step 0:01:04.037695\n",
      "train_loss 0.366 val_loss 0.388 val_auc_score 0.712\n",
      "----End of step 0:01:04.729970\n",
      "train_loss 0.363 val_loss 0.402 val_auc_score 0.715\n",
      "----End of step 0:01:03.969777\n",
      "train_loss 0.361 val_loss 0.386 val_auc_score 0.718\n",
      "----End of step 0:01:01.782259\n",
      "train_loss 0.357 val_loss 0.391 val_auc_score 0.717\n",
      "----End of step 0:01:00.990810\n",
      "train_loss 0.354 val_loss 0.389 val_auc_score 0.715\n",
      "----End of step 0:01:01.226789\n",
      "train_loss 0.352 val_loss 0.391 val_auc_score 0.717\n",
      "----End of step 0:01:01.453064\n",
      "train_loss 0.349 val_loss 0.392 val_auc_score 0.718\n",
      "----End of step 0:01:01.340714\n",
      "train_loss 0.347 val_loss 0.389 val_auc_score 0.717\n",
      "----End of step 0:01:02.425422\n",
      "train_loss 0.346 val_loss 0.393 val_auc_score 0.717\n",
      "----End of step 0:01:00.830276\n",
      "train_loss 0.344 val_loss 0.390 val_auc_score 0.718\n",
      "----End of step 0:01:00.938321\n",
      "train_loss 0.344 val_loss 0.391 val_auc_score 0.717\n",
      "----End of step 0:01:01.013061\n",
      "train_loss 0.422 val_loss 0.410 val_auc_score 0.645\n",
      "----End of step 0:01:00.221857\n",
      "train_loss 0.387 val_loss 0.394 val_auc_score 0.695\n",
      "----End of step 0:01:01.372036\n",
      "train_loss 0.377 val_loss 0.393 val_auc_score 0.701\n",
      "----End of step 0:01:00.646069\n",
      "train_loss 0.371 val_loss 0.391 val_auc_score 0.712\n",
      "----End of step 0:00:59.868074\n",
      "train_loss 0.366 val_loss 0.397 val_auc_score 0.711\n",
      "----End of step 0:01:00.725877\n",
      "train_loss 0.362 val_loss 0.393 val_auc_score 0.714\n",
      "----End of step 0:01:01.108272\n",
      "train_loss 0.360 val_loss 0.391 val_auc_score 0.714\n",
      "----End of step 0:01:01.938446\n",
      "train_loss 0.356 val_loss 0.393 val_auc_score 0.716\n",
      "----End of step 0:01:05.172842\n",
      "train_loss 0.354 val_loss 0.388 val_auc_score 0.717\n",
      "----End of step 0:01:03.962868\n",
      "train_loss 0.351 val_loss 0.394 val_auc_score 0.715\n",
      "----End of step 0:01:04.514077\n",
      "train_loss 0.350 val_loss 0.398 val_auc_score 0.717\n",
      "----End of step 0:01:05.940386\n",
      "train_loss 0.347 val_loss 0.391 val_auc_score 0.717\n",
      "----End of step 0:01:06.344853\n",
      "train_loss 0.345 val_loss 0.396 val_auc_score 0.718\n",
      "----End of step 0:01:04.864339\n",
      "train_loss 0.344 val_loss 0.393 val_auc_score 0.717\n",
      "----End of step 0:01:04.204500\n",
      "train_loss 0.344 val_loss 0.394 val_auc_score 0.718\n",
      "----End of step 0:01:04.392041\n",
      "train_loss 0.419 val_loss 0.405 val_auc_score 0.655\n",
      "----End of step 0:01:04.587926\n",
      "train_loss 0.387 val_loss 0.393 val_auc_score 0.694\n",
      "----End of step 0:01:04.180231\n",
      "train_loss 0.377 val_loss 0.396 val_auc_score 0.702\n",
      "----End of step 0:01:04.254767\n",
      "train_loss 0.371 val_loss 0.389 val_auc_score 0.708\n",
      "----End of step 0:01:03.969809\n",
      "train_loss 0.367 val_loss 0.386 val_auc_score 0.714\n",
      "----End of step 0:01:07.337696\n",
      "train_loss 0.363 val_loss 0.387 val_auc_score 0.715\n",
      "----End of step 0:01:05.471402\n",
      "train_loss 0.360 val_loss 0.389 val_auc_score 0.712\n",
      "----End of step 0:01:04.477586\n",
      "train_loss 0.356 val_loss 0.391 val_auc_score 0.717\n",
      "----End of step 0:01:04.734343\n",
      "train_loss 0.354 val_loss 0.389 val_auc_score 0.716\n",
      "----End of step 0:01:04.195796\n",
      "train_loss 0.351 val_loss 0.386 val_auc_score 0.718\n",
      "----End of step 0:01:04.636291\n",
      "train_loss 0.350 val_loss 0.384 val_auc_score 0.719\n",
      "----End of step 0:01:05.662404\n",
      "train_loss 0.347 val_loss 0.384 val_auc_score 0.719\n",
      "----End of step 0:01:04.424951\n",
      "train_loss 0.346 val_loss 0.386 val_auc_score 0.720\n",
      "----End of step 0:01:04.720710\n",
      "train_loss 0.344 val_loss 0.388 val_auc_score 0.719\n",
      "----End of step 0:01:05.927748\n",
      "train_loss 0.344 val_loss 0.387 val_auc_score 0.719\n",
      "----End of step 0:01:07.377544\n",
      "train_loss 0.419 val_loss 0.406 val_auc_score 0.653\n",
      "----End of step 0:01:04.595394\n",
      "train_loss 0.388 val_loss 0.392 val_auc_score 0.695\n",
      "----End of step 0:01:03.930061\n",
      "train_loss 0.377 val_loss 0.393 val_auc_score 0.705\n",
      "----End of step 0:01:07.551888\n",
      "train_loss 0.371 val_loss 0.388 val_auc_score 0.709\n",
      "----End of step 0:01:04.574399\n",
      "train_loss 0.367 val_loss 0.387 val_auc_score 0.712\n",
      "----End of step 0:01:05.963359\n",
      "train_loss 0.363 val_loss 0.393 val_auc_score 0.714\n",
      "----End of step 0:01:06.597226\n",
      "train_loss 0.360 val_loss 0.395 val_auc_score 0.713\n",
      "----End of step 0:01:04.214501\n",
      "train_loss 0.357 val_loss 0.389 val_auc_score 0.714\n",
      "----End of step 0:01:03.685228\n",
      "train_loss 0.354 val_loss 0.385 val_auc_score 0.718\n",
      "----End of step 0:01:05.491164\n",
      "train_loss 0.352 val_loss 0.388 val_auc_score 0.716\n",
      "----End of step 0:01:04.468217\n",
      "train_loss 0.350 val_loss 0.390 val_auc_score 0.716\n",
      "----End of step 0:01:03.922610\n",
      "train_loss 0.347 val_loss 0.390 val_auc_score 0.715\n",
      "----End of step 0:01:06.069344\n",
      "train_loss 0.346 val_loss 0.389 val_auc_score 0.717\n",
      "----End of step 0:01:04.415982\n",
      "train_loss 0.345 val_loss 0.391 val_auc_score 0.716\n",
      "----End of step 0:01:04.889202\n",
      "train_loss 0.344 val_loss 0.390 val_auc_score 0.716\n",
      "----End of step 0:01:08.397915\n",
      "train_loss 0.423 val_loss 0.405 val_auc_score 0.655\n",
      "----End of step 0:01:05.070098\n",
      "train_loss 0.387 val_loss 0.394 val_auc_score 0.693\n",
      "----End of step 0:01:04.482454\n",
      "train_loss 0.377 val_loss 0.389 val_auc_score 0.704\n",
      "----End of step 0:01:08.784244\n",
      "train_loss 0.371 val_loss 0.389 val_auc_score 0.709\n",
      "----End of step 0:01:04.469485\n",
      "train_loss 0.366 val_loss 0.388 val_auc_score 0.712\n",
      "----End of step 0:01:04.005100\n",
      "train_loss 0.363 val_loss 0.392 val_auc_score 0.711\n",
      "----End of step 0:01:04.371082\n",
      "train_loss 0.360 val_loss 0.389 val_auc_score 0.716\n",
      "----End of step 0:01:06.150544\n",
      "train_loss 0.357 val_loss 0.382 val_auc_score 0.720\n",
      "----End of step 0:01:07.090594\n",
      "train_loss 0.354 val_loss 0.386 val_auc_score 0.718\n",
      "----End of step 0:01:04.770167\n",
      "train_loss 0.352 val_loss 0.385 val_auc_score 0.721\n",
      "----End of step 0:01:04.954819\n",
      "train_loss 0.349 val_loss 0.388 val_auc_score 0.719\n",
      "----End of step 0:01:04.295382\n",
      "train_loss 0.347 val_loss 0.388 val_auc_score 0.720\n",
      "----End of step 0:01:03.940267\n",
      "train_loss 0.345 val_loss 0.388 val_auc_score 0.720\n",
      "----End of step 0:01:05.109168\n",
      "train_loss 0.345 val_loss 0.388 val_auc_score 0.720\n",
      "----End of step 0:01:03.521186\n",
      "train_loss 0.344 val_loss 0.387 val_auc_score 0.720\n",
      "----End of step 0:01:04.742788\n"
     ]
    }
   ],
   "source": [
    "data = []\n",
    "for i in range(5):\n",
    "    model = resnet18(block=depthwise_block, num_classes=1000).cuda()\n",
    "    load_model(model, '/home/rimmanni/imagenet/model_320_iter20_770.pth')\n",
    "    model.classifier = nn.Linear(in_features=512, out_features=5, bias=True).cuda()\n",
    "    optimizer = create_optimizer(model, 0.001)\n",
    "    score, t = train_triangular_policy(model, optimizer, train_loader, valid_loader, valid_dataset,\n",
    "                                               loss_fn=F.binary_cross_entropy_with_logits, \n",
    "                                               dataset='chexpert', binary=False, max_lr=0.001, epochs=15)\n",
    "    \n",
    "    data.append([score, t, 'chexpert', 'resnet_full'])\n",
    "    "
   ]
  },
  {
   "cell_type": "markdown",
   "metadata": {},
   "source": [
    "#### 0.25_full_depth"
   ]
  },
  {
   "cell_type": "code",
   "execution_count": null,
   "metadata": {},
   "outputs": [
    {
     "name": "stdout",
     "output_type": "stream",
     "text": [
      "train_loss 0.430 val_loss 0.463 val_auc_score 0.613\n",
      "----End of step 0:01:07.527198\n",
      "train_loss 0.400 val_loss 0.465 val_auc_score 0.651\n",
      "----End of step 0:01:05.232848\n",
      "train_loss 0.392 val_loss 0.458 val_auc_score 0.668\n",
      "----End of step 0:01:04.356969\n",
      "train_loss 0.386 val_loss 0.432 val_auc_score 0.672\n",
      "----End of step 0:01:04.098690\n",
      "train_loss 0.382 val_loss 0.437 val_auc_score 0.673\n",
      "----End of step 0:01:03.383424\n",
      "train_loss 0.379 val_loss 0.447 val_auc_score 0.678\n",
      "----End of step 0:01:04.817863\n",
      "train_loss 0.377 val_loss 0.448 val_auc_score 0.678\n",
      "----End of step 0:01:03.755351\n",
      "train_loss 0.376 val_loss 0.440 val_auc_score 0.682\n",
      "----End of step 0:01:07.341595\n",
      "train_loss 0.374 val_loss 0.441 val_auc_score 0.681\n",
      "----End of step 0:01:04.930013\n",
      "train_loss 0.373 val_loss 0.442 val_auc_score 0.680\n",
      "----End of step 0:01:04.610132\n",
      "train_loss 0.372 val_loss 0.438 val_auc_score 0.681\n",
      "----End of step 0:01:04.955320\n",
      "train_loss 0.371 val_loss 0.433 val_auc_score 0.683\n",
      "----End of step 0:01:06.385712\n",
      "train_loss 0.370 val_loss 0.436 val_auc_score 0.681\n",
      "----End of step 0:01:03.896516\n",
      "train_loss 0.370 val_loss 0.439 val_auc_score 0.682\n",
      "----End of step 0:01:04.677101\n",
      "train_loss 0.370 val_loss 0.438 val_auc_score 0.681\n",
      "----End of step 0:01:04.154521\n",
      "train_loss 0.434 val_loss 0.471 val_auc_score 0.613\n",
      "----End of step 0:01:04.251448\n",
      "train_loss 0.402 val_loss 0.436 val_auc_score 0.647\n",
      "----End of step 0:01:04.653663\n",
      "train_loss 0.392 val_loss 0.482 val_auc_score 0.661\n",
      "----End of step 0:01:05.291073\n",
      "train_loss 0.386 val_loss 0.444 val_auc_score 0.673\n",
      "----End of step 0:01:06.173039\n",
      "train_loss 0.383 val_loss 0.444 val_auc_score 0.673\n",
      "----End of step 0:01:08.300016\n",
      "train_loss 0.380 val_loss 0.444 val_auc_score 0.667\n",
      "----End of step 0:01:04.925383\n",
      "train_loss 0.377 val_loss 0.422 val_auc_score 0.678\n",
      "----End of step 0:01:02.652330\n",
      "train_loss 0.376 val_loss 0.459 val_auc_score 0.673\n",
      "----End of step 0:01:01.165465\n",
      "train_loss 0.374 val_loss 0.431 val_auc_score 0.674\n",
      "----End of step 0:01:01.249367\n",
      "train_loss 0.373 val_loss 0.444 val_auc_score 0.669\n",
      "----End of step 0:01:00.882573\n",
      "train_loss 0.372 val_loss 0.442 val_auc_score 0.677\n",
      "----End of step 0:01:02.306750\n",
      "train_loss 0.371 val_loss 0.438 val_auc_score 0.675\n",
      "----End of step 0:01:02.525258\n",
      "train_loss 0.371 val_loss 0.438 val_auc_score 0.676\n",
      "----End of step 0:01:03.515249\n",
      "train_loss 0.370 val_loss 0.442 val_auc_score 0.675\n",
      "----End of step 0:01:03.195802\n",
      "train_loss 0.370 val_loss 0.441 val_auc_score 0.676\n",
      "----End of step 0:01:03.756039\n",
      "train_loss 0.433 val_loss 0.465 val_auc_score 0.611\n",
      "----End of step 0:01:03.398352\n",
      "train_loss 0.401 val_loss 0.476 val_auc_score 0.647\n",
      "----End of step 0:01:03.949796\n",
      "train_loss 0.392 val_loss 0.465 val_auc_score 0.665\n",
      "----End of step 0:01:03.250647\n",
      "train_loss 0.386 val_loss 0.460 val_auc_score 0.667\n",
      "----End of step 0:01:03.068696\n",
      "train_loss 0.382 val_loss 0.442 val_auc_score 0.669\n",
      "----End of step 0:01:03.314616\n",
      "train_loss 0.379 val_loss 0.460 val_auc_score 0.673\n",
      "----End of step 0:01:01.226489\n",
      "train_loss 0.377 val_loss 0.462 val_auc_score 0.676\n",
      "----End of step 0:01:04.719212\n",
      "train_loss 0.376 val_loss 0.449 val_auc_score 0.672\n",
      "----End of step 0:01:10.018423\n",
      "train_loss 0.374 val_loss 0.457 val_auc_score 0.672\n",
      "----End of step 0:01:07.370936\n",
      "train_loss 0.373 val_loss 0.431 val_auc_score 0.674\n",
      "----End of step 0:01:06.152422\n"
     ]
    }
   ],
   "source": [
    "for i in range(5):\n",
    "    model = resnet18(num_classes=1000, block=depthwise_block, width_mult=0.25).cuda()\n",
    "    load_model(model, '/home/rimmanni/imagenet/res_depth_net_0_25_1_iter20.pth')\n",
    "    model.classifier = nn.Linear(in_features=512, out_features=5, bias=True).cuda()\n",
    "    optimizer = create_optimizer(model, 0.001)\n",
    "    score, t = train_triangular_policy(model, optimizer, train_loader, valid_loader, valid_dataset,\n",
    "                                       loss_fn=F.binary_cross_entropy_with_logits, \n",
    "                                       dataset='chexpert', binary=False, max_lr=0.001, epochs=15)\n",
    "    \n",
    "    data.append([score, t, 'chexpert', 'resnet_0_25_full_depth'])\n",
    "    "
   ]
  },
  {
   "cell_type": "markdown",
   "metadata": {},
   "source": [
    "#### 0_5_4"
   ]
  },
  {
   "cell_type": "code",
   "execution_count": null,
   "metadata": {},
   "outputs": [],
   "source": [
    "for i in range(5):\n",
    "    d = depths[4]\n",
    "    model = resnet18(num_classes=1000, block=depthwise_block, width_mult=0.5, \n",
    "                     inverted_residual_setting1=d[0], \n",
    "                     inverted_residual_setting2=d[1]).cuda()\n",
    "    load_model(model, '/home/rimmanni/imagenet/res_depth_net_0_5_4_iter20.pth')\n",
    "    model.classifier = nn.Linear(in_features=512, out_features=5, bias=True).cuda()\n",
    "    optimizer = create_optimizer(model, 0.001)\n",
    "    score, t = train_triangular_policy(model, optimizer, train_loader, valid_loader, valid_dataset,\n",
    "                                       loss_fn=F.binary_cross_entropy_with_logits, \n",
    "                                       dataset='chexpert', binary=False, max_lr=0.001, epochs=15)\n",
    "    \n",
    "    data.append([score, t, 'chexpert', 'resnet_0_5_4'])\n",
    "    "
   ]
  },
  {
   "cell_type": "markdown",
   "metadata": {},
   "source": [
    "#### 0_5_full_depth"
   ]
  },
  {
   "cell_type": "code",
   "execution_count": null,
   "metadata": {},
   "outputs": [],
   "source": [
    "for i in range(5):\n",
    "    model = resnet18(num_classes=1000, block=depthwise_block, width_mult=0.5).cuda()\n",
    "    load_model(model, '/home/rimmanni/imagenet/res_depth_net_0_5_1_iter20.pth')\n",
    "    model.classifier = nn.Linear(in_features=512, out_features=5, bias=True).cuda()\n",
    "    optimizer = create_optimizer(model, 0.001)\n",
    "    score, t = train_triangular_policy(model, optimizer, train_loader, valid_loader, valid_dataset,\n",
    "                                       loss_fn=F.binary_cross_entropy_with_logits, \n",
    "                                       dataset='chexpert', binary=False, max_lr=0.001, epochs=15)\n",
    "    \n",
    "    data.append([score, t, 'chexpert', 'resnet_0_5_full_depth'])\n",
    "    "
   ]
  },
  {
   "cell_type": "markdown",
   "metadata": {},
   "source": [
    "#### 0_75_4"
   ]
  },
  {
   "cell_type": "code",
   "execution_count": null,
   "metadata": {},
   "outputs": [],
   "source": [
    "for i in range(5):\n",
    "    d = depths[4]\n",
    "    model = resnet18(num_classes=1000, block=depthwise_block, width_mult=0.75, \n",
    "                     inverted_residual_setting1=d[0], \n",
    "                     inverted_residual_setting2=d[1]).cuda()\n",
    "    load_model(model, '/home/rimmanni/imagenet/res_depth_net_0_75_4_iter20.pth')\n",
    "    model.classifier = nn.Linear(in_features=512, out_features=5, bias=True).cuda()\n",
    "    optimizer = create_optimizer(model, 0.001)\n",
    "    score, t = train_triangular_policy(model, optimizer, train_loader, valid_loader, valid_dataset,\n",
    "                                       loss_fn=F.binary_cross_entropy_with_logits, \n",
    "                                       dataset='chexpert', binary=False, max_lr=0.001, epochs=15)\n",
    "    \n",
    "    data.append([score, t, 'chexpert', 'resnet_0_75_4'])\n",
    "    "
   ]
  },
  {
   "cell_type": "code",
   "execution_count": null,
   "metadata": {},
   "outputs": [],
   "source": [
    "columns = ['score', 'time', 'dataset', 'model']\n",
    "df = pd.DataFrame(data=data, columns=columns)"
   ]
  },
  {
   "cell_type": "code",
   "execution_count": null,
   "metadata": {},
   "outputs": [],
   "source": [
    "df.to_csv(\"chexpert_resnet.csv\", index=False)"
   ]
  },
  {
   "cell_type": "code",
   "execution_count": null,
   "metadata": {},
   "outputs": [],
   "source": []
  }
 ],
 "metadata": {
  "kernelspec": {
   "display_name": "Python 3",
   "language": "python",
   "name": "python3"
  },
  "language_info": {
   "codemirror_mode": {
    "name": "ipython",
    "version": 3
   },
   "file_extension": ".py",
   "mimetype": "text/x-python",
   "name": "python",
   "nbconvert_exporter": "python",
   "pygments_lexer": "ipython3",
   "version": "3.7.4"
  }
 },
 "nbformat": 4,
 "nbformat_minor": 2
}
