{
 "cells": [
  {
   "cell_type": "code",
   "execution_count": 1,
   "metadata": {},
   "outputs": [
    {
     "name": "stdout",
     "output_type": "stream",
     "text": [
      "2\n"
     ]
    }
   ],
   "source": [
    "import torch\n",
    "torch.cuda.set_device(2)\n",
    "print(torch.cuda.current_device())"
   ]
  },
  {
   "cell_type": "code",
   "execution_count": 2,
   "metadata": {},
   "outputs": [],
   "source": [
    "%run ../prepare_data.py"
   ]
  },
  {
   "cell_type": "code",
   "execution_count": 3,
   "metadata": {},
   "outputs": [],
   "source": [
    "batch_size = 32"
   ]
  },
  {
   "cell_type": "code",
   "execution_count": 4,
   "metadata": {},
   "outputs": [],
   "source": [
    "train_loader, valid_loader, valid_dataset = rsna_dataloaders(batch_size)"
   ]
  },
  {
   "cell_type": "code",
   "execution_count": 5,
   "metadata": {},
   "outputs": [],
   "source": [
    "x, y = next(iter(train_loader))"
   ]
  },
  {
   "cell_type": "code",
   "execution_count": 6,
   "metadata": {},
   "outputs": [
    {
     "data": {
      "text/plain": [
       "(torch.Size([32, 3, 256, 256]), torch.Size([32]))"
      ]
     },
     "execution_count": 6,
     "metadata": {},
     "output_type": "execute_result"
    }
   ],
   "source": [
    "x.shape, y.shape"
   ]
  },
  {
   "cell_type": "markdown",
   "metadata": {},
   "source": [
    "### Full model"
   ]
  },
  {
   "cell_type": "code",
   "execution_count": 7,
   "metadata": {},
   "outputs": [],
   "source": [
    "def basicblock(in_, \n",
    "               out_, \n",
    "               kernel_size=3, \n",
    "               stride=1, \n",
    "               groups=1):\n",
    "\n",
    "    \n",
    "    padding = (kernel_size - 1) // 2\n",
    "    block = nn.Sequential(nn.Conv2d(in_, out_, kernel_size, stride, padding, groups=groups, bias=False),\n",
    "                          nn.BatchNorm2d(out_),\n",
    "                          nn.ReLU6(inplace=True))\n",
    "    \n",
    "    return block\n",
    "\n",
    "class InvertedResblock(nn.Module):\n",
    "    \n",
    "    def __init__(self, in_, out_, kernel_size=3, stride=1, expand_ratio=1):\n",
    "        super(InvertedResblock, self).__init__()\n",
    "        \n",
    "        self.stride = stride\n",
    "        hidden_dim = int(round(in_ * expand_ratio))\n",
    "        blocks = []\n",
    "        self.use_res_connect = self.stride == 1 and in_ == out_\n",
    "        \n",
    "        if expand_ratio != 1:\n",
    "            blocks.append(basicblock(in_, hidden_dim, kernel_size=1))\n",
    "\n",
    "        blocks.append(basicblock(hidden_dim, hidden_dim, kernel_size=kernel_size, stride=stride, groups=hidden_dim))\n",
    "        blocks.append(nn.Conv2d(hidden_dim, out_, kernel_size=1, stride=1, bias=False))\n",
    "        blocks.append(nn.BatchNorm2d(out_))\n",
    "\n",
    "        self.blocks = nn.Sequential(*blocks)\n",
    "    \n",
    "    def forward(self, x):\n",
    "        if self.use_res_connect:\n",
    "            return x + self.blocks(x)\n",
    "        else:\n",
    "            return self.blocks(x)"
   ]
  },
  {
   "cell_type": "code",
   "execution_count": 8,
   "metadata": {},
   "outputs": [],
   "source": [
    "class Net(nn.Module):\n",
    "    def __init__(self, num_classes=1):\n",
    "        super(Net, self).__init__()\n",
    "        self.features1 = nn.Sequential(basicblock(3, 32, 3, 2, 1),\n",
    "                                       InvertedResblock(32, 16, 3, 1, 1), \n",
    "                                       InvertedResblock(16, 24, 3, 2, 6),\n",
    "                                       InvertedResblock(24, 24, 3, 1, 6),\n",
    "                                       InvertedResblock(24, 32, 3, 2, 6),\n",
    "                                       InvertedResblock(32, 32, 3, 1, 6),\n",
    "                                       InvertedResblock(32, 32, 3, 1, 6), \n",
    "                                       InvertedResblock(32, 64, 3, 2, 6),\n",
    "                                       InvertedResblock(64, 64, 3, 1, 6),\n",
    "                                       InvertedResblock(64, 64, 3, 1, 6),\n",
    "                                       InvertedResblock(64, 64, 3, 1, 6),\n",
    "                                       InvertedResblock(64, 96, 3, 1, 6),\n",
    "                                       InvertedResblock(96, 96, 3, 1, 6),\n",
    "                                       InvertedResblock(96, 96, 3, 1, 6),\n",
    "                                       InvertedResblock(96, 160, 3, 2, 6))\n",
    "    \n",
    "        self.features2 = nn.Sequential(InvertedResblock(160, 160, 3, 1, 6),\n",
    "                                       InvertedResblock(160, 160, 3, 1, 6),\n",
    "                                       InvertedResblock(160, 320, 3, 1, 6),\n",
    "                                       basicblock(320, 1280, 1))\n",
    "        self.classifier = nn.Sequential(nn.Dropout(p=0.2), nn.Linear(1280, 1000))\n",
    "        \n",
    "    def forward(self, x):\n",
    "        x = self.features1(x)\n",
    "        x = self.features2(x)\n",
    "        x = x.mean(3).mean(2)\n",
    "        x = self.classifier(x)\n",
    "\n",
    "        return x"
   ]
  },
  {
   "cell_type": "code",
   "execution_count": 9,
   "metadata": {},
   "outputs": [],
   "source": [
    "model = Net().cuda()"
   ]
  },
  {
   "cell_type": "code",
   "execution_count": 10,
   "metadata": {},
   "outputs": [
    {
     "data": {
      "text/plain": [
       "3504872"
      ]
     },
     "execution_count": 10,
     "metadata": {},
     "output_type": "execute_result"
    }
   ],
   "source": [
    "sum(p.numel() for p in model.parameters())"
   ]
  },
  {
   "cell_type": "code",
   "execution_count": 11,
   "metadata": {},
   "outputs": [],
   "source": [
    "load_model(model, '/home/rimmanni/imagenet/mobilenet_320_iter20_revised.pth')"
   ]
  },
  {
   "cell_type": "code",
   "execution_count": 12,
   "metadata": {},
   "outputs": [],
   "source": [
    "class Net2(nn.Module):\n",
    "    def __init__(self, model):\n",
    "        super(Net2, self).__init__()\n",
    "        self.features1 = model.features1\n",
    "        self.features2 = model.features2\n",
    "        self.classifier = nn.Sequential(nn.Dropout(p=0.2), nn.Linear(1280, 1))\n",
    "        \n",
    "    def forward(self, x):\n",
    "        x = self.features1(x)\n",
    "        x = self.features2(x)\n",
    "        x = x.mean(3).mean(2)\n",
    "        x1 = self.classifier(x).view(-1)\n",
    "\n",
    "        return x1"
   ]
  },
  {
   "cell_type": "code",
   "execution_count": 13,
   "metadata": {},
   "outputs": [],
   "source": [
    "model2 = Net2(model).cuda()"
   ]
  },
  {
   "cell_type": "code",
   "execution_count": null,
   "metadata": {
    "scrolled": true
   },
   "outputs": [
    {
     "name": "stdout",
     "output_type": "stream",
     "text": [
      "train_loss 0.369 val_loss 0.337 val_auc_score 0.915\n",
      "----End of step 0:01:45.098232\n",
      "train_loss 0.318 val_loss 0.306 val_auc_score 0.932\n",
      "----End of step 0:01:41.192611\n",
      "train_loss 0.304 val_loss 0.337 val_auc_score 0.942\n",
      "----End of step 0:01:42.937131\n",
      "train_loss 0.292 val_loss 0.284 val_auc_score 0.944\n",
      "----End of step 0:01:42.036379\n",
      "train_loss 0.276 val_loss 0.292 val_auc_score 0.942\n",
      "----End of step 0:01:44.143949\n",
      "train_loss 0.273 val_loss 0.272 val_auc_score 0.948\n",
      "----End of step 0:01:45.091344\n"
     ]
    }
   ],
   "source": [
    "data = []\n",
    "for i in range(5):\n",
    "    model = Net().cuda()\n",
    "    load_model(model, '/home/rimmanni/imagenet/mobilenet_320_iter20_revised.pth')\n",
    "    model2 = Net2(model).cuda()\n",
    "    optimizer = create_optimizer(model2, 0.01)\n",
    "    score, t = train_triangular_policy(model2, optimizer, train_loader, valid_loader, valid_dataset,\n",
    "                                               loss_fn=F.binary_cross_entropy_with_logits, \n",
    "                                               dataset='rsna', binary=True, max_lr=0.01, epochs=15)\n",
    "    \n",
    "    data.append([score, t, 'rsna', 'mobilenet_full'])\n",
    "    "
   ]
  },
  {
   "cell_type": "markdown",
   "metadata": {},
   "source": [
    "### other"
   ]
  },
  {
   "cell_type": "code",
   "execution_count": null,
   "metadata": {},
   "outputs": [],
   "source": [
    "%run ../architectures.py"
   ]
  },
  {
   "cell_type": "markdown",
   "metadata": {},
   "source": [
    "#### 0.25_1"
   ]
  },
  {
   "cell_type": "code",
   "execution_count": null,
   "metadata": {},
   "outputs": [],
   "source": [
    "for i in range(5):\n",
    "    model = MobileNet(num_classes=1000, width_mult=0.25, depth_mult=1.0).cuda()\n",
    "    load_model(model, '/home/rimmanni/imagenet/mobilenet_0_25_1_iter20.pth')\n",
    "    model.classifier = nn.Sequential(nn.Dropout(p=0.2), nn.Linear(1280, 1)).cuda()\n",
    "    optimizer = create_optimizer(model, 0.01)\n",
    "    score, t = train_triangular_policy(model, optimizer, train_loader, valid_loader, valid_dataset,\n",
    "                                       loss_fn=F.binary_cross_entropy_with_logits, \n",
    "                                       dataset='rsna', binary=True, max_lr=0.01, epochs=15)\n",
    "    \n",
    "    data.append([score, t, 'rsna', 'mobilenet_0_25_1'])\n",
    "    "
   ]
  },
  {
   "cell_type": "markdown",
   "metadata": {},
   "source": [
    "#### 0_5_0_5"
   ]
  },
  {
   "cell_type": "code",
   "execution_count": null,
   "metadata": {},
   "outputs": [],
   "source": [
    "for i in range(5):\n",
    "    model = MobileNet(num_classes=1000, width_mult=0.5, depth_mult=0.5).cuda()\n",
    "    load_model(model, '/home/rimmanni/imagenet/mobilenet_0_5_0_5_iter20.pth')\n",
    "    model.classifier = nn.Sequential(nn.Dropout(p=0.2), nn.Linear(1280, 1)).cuda()\n",
    "    optimizer = create_optimizer(model, 0.01)\n",
    "    score, t = train_triangular_policy(model, optimizer, train_loader, valid_loader, valid_dataset,\n",
    "                                       loss_fn=F.binary_cross_entropy_with_logits, \n",
    "                                       dataset='rsna', binary=True, max_lr=0.01, epochs=15)\n",
    "    \n",
    "    data.append([score, t, 'rsna', 'mobilenet_0_5_0_5'])\n",
    "    "
   ]
  },
  {
   "cell_type": "markdown",
   "metadata": {},
   "source": [
    "#### 0_75_0_3"
   ]
  },
  {
   "cell_type": "code",
   "execution_count": null,
   "metadata": {},
   "outputs": [],
   "source": [
    "for i in range(5):\n",
    "    model = MobileNet(num_classes=1000, width_mult=0.75, depth_mult=0.3).cuda()\n",
    "    load_model(model, '/home/rimmanni/imagenet/mobilenet_0_75_0_3_iter20.pth')\n",
    "    model.classifier = nn.Sequential(nn.Dropout(p=0.2), nn.Linear(1280, 1)).cuda()\n",
    "    optimizer = create_optimizer(model, 0.01)\n",
    "    score, t = train_triangular_policy(model, optimizer, train_loader, valid_loader, valid_dataset,\n",
    "                                       loss_fn=F.binary_cross_entropy_with_logits, \n",
    "                                       dataset='rsna', binary=True, max_lr=0.01, epochs=15)\n",
    "    \n",
    "    data.append([score, t, 'rsna', 'mobilenet_0_75_0_3'])\n",
    "    "
   ]
  },
  {
   "cell_type": "markdown",
   "metadata": {},
   "source": [
    "#### 1_0_2"
   ]
  },
  {
   "cell_type": "code",
   "execution_count": null,
   "metadata": {},
   "outputs": [],
   "source": [
    "for i in range(5):\n",
    "    model = MobileNet(num_classes=1000, width_mult=1.0, depth_mult=0.2).cuda()\n",
    "    load_model(model, '/home/rimmanni/imagenet/mobilenet_1_0_2_iter20.pth')\n",
    "    model.classifier = nn.Sequential(nn.Dropout(p=0.2), nn.Linear(1280, 1)).cuda()\n",
    "    optimizer = create_optimizer(model, 0.01)\n",
    "    score, t = train_triangular_policy(model, optimizer, train_loader, valid_loader, valid_dataset,\n",
    "                                       loss_fn=F.binary_cross_entropy_with_logits, \n",
    "                                       dataset='rsna', binary=True, max_lr=0.01, epochs=15)\n",
    "    \n",
    "    data.append([score, t, 'rsna', 'mobilenet_1_0_2'])\n",
    "    "
   ]
  },
  {
   "cell_type": "code",
   "execution_count": null,
   "metadata": {},
   "outputs": [],
   "source": [
    "columns = ['score', 'time', 'dataset', 'model']\n",
    "df = pd.DataFrame(data=data, columns=columns)"
   ]
  },
  {
   "cell_type": "code",
   "execution_count": null,
   "metadata": {},
   "outputs": [],
   "source": [
    "df.to_csv(\"rsna_mobilenet.csv\", index=False)"
   ]
  },
  {
   "cell_type": "code",
   "execution_count": null,
   "metadata": {},
   "outputs": [],
   "source": []
  }
 ],
 "metadata": {
  "kernelspec": {
   "display_name": "Python 3",
   "language": "python",
   "name": "python3"
  },
  "language_info": {
   "codemirror_mode": {
    "name": "ipython",
    "version": 3
   },
   "file_extension": ".py",
   "mimetype": "text/x-python",
   "name": "python",
   "nbconvert_exporter": "python",
   "pygments_lexer": "ipython3",
   "version": "3.7.4"
  }
 },
 "nbformat": 4,
 "nbformat_minor": 2
}
