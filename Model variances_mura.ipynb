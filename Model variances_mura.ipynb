{
 "cells": [
  {
   "cell_type": "code",
   "execution_count": 1,
   "metadata": {},
   "outputs": [
    {
     "name": "stdout",
     "output_type": "stream",
     "text": [
      "2\n"
     ]
    }
   ],
   "source": [
    "import torch\n",
    "torch.cuda.set_device(2)\n",
    "print(torch.cuda.current_device())"
   ]
  },
  {
   "cell_type": "code",
   "execution_count": 2,
   "metadata": {},
   "outputs": [],
   "source": [
    "%run prepare_data.py\n",
    "%run architectures.py"
   ]
  },
  {
   "cell_type": "markdown",
   "metadata": {},
   "source": [
    "### Mura"
   ]
  },
  {
   "cell_type": "markdown",
   "metadata": {},
   "source": [
    "#### MobileNet"
   ]
  },
  {
   "cell_type": "code",
   "execution_count": 3,
   "metadata": {},
   "outputs": [],
   "source": [
    "PATH = Path('/home/rimmanni/data/mura')\n",
    "valid_path = PATH/\"valid_250_200\"\n",
    "valid_dataset = datasets.ImageFolder(valid_path, transforms.Compose([\n",
    "    transforms.ToTensor()\n",
    "]))\n",
    "sampled = torch.utils.data.RandomSampler(valid_dataset, replacement=True)"
   ]
  },
  {
   "cell_type": "code",
   "execution_count": 4,
   "metadata": {},
   "outputs": [],
   "source": [
    "p = Path(\"Scaling_experiments/Mura/\")\n",
    "ls = list(p.iterdir())\n",
    "models = [str(s) for s in ls if '_' in str(s) and 'ipynb' not in str(s) and '.csv' not in str(s) \n",
    "          and 'Mobile' in str(s)]"
   ]
  },
  {
   "cell_type": "code",
   "execution_count": 5,
   "metadata": {},
   "outputs": [
    {
     "data": {
      "text/plain": [
       "24"
      ]
     },
     "execution_count": 5,
     "metadata": {},
     "output_type": "execute_result"
    }
   ],
   "source": [
    "len(models)"
   ]
  },
  {
   "cell_type": "code",
   "execution_count": 6,
   "metadata": {},
   "outputs": [],
   "source": [
    "data = []\n",
    "\n",
    "for model_p in models:\n",
    "    w = float(model_p.split('_')[-2])\n",
    "    d = float(model_p.split('_')[-1])\n",
    "    model = MobileNet(num_classes=1, width_mult=w, depth_mult=d).cuda()\n",
    "    load_model(model, model_p)\n",
    "    for i in range(15):\n",
    "        ids = list(iter(sampled))\n",
    "        valid_ds_sampled = torch.utils.data.Subset(valid_dataset, ids)\n",
    "        valid_ds_sampled.samples = [valid_dataset.samples[i] for i in ids]\n",
    "        valid_loader = DataLoader(valid_ds_sampled, batch_size=32,num_workers=4)\n",
    "        _, score = val_metrics_mura(model, valid_loader, valid_ds_sampled)\n",
    "        data.append([model_p, score])\n",
    "#         print(model_p, val_metrics_mura(model, valid_loader, valid_ds_sampled))"
   ]
  },
  {
   "cell_type": "code",
   "execution_count": 7,
   "metadata": {},
   "outputs": [],
   "source": [
    "mura_mobile = pd.DataFrame(data=data, columns=['model', 'score'])"
   ]
  },
  {
   "cell_type": "code",
   "execution_count": 8,
   "metadata": {},
   "outputs": [],
   "source": [
    "mura_mobile.to_csv('bootstrap/mura_mobile.csv', index=False)"
   ]
  },
  {
   "cell_type": "code",
   "execution_count": null,
   "metadata": {},
   "outputs": [],
   "source": []
  },
  {
   "cell_type": "markdown",
   "metadata": {},
   "source": [
    "#### Resntet_Depth"
   ]
  },
  {
   "cell_type": "code",
   "execution_count": 9,
   "metadata": {},
   "outputs": [
    {
     "data": {
      "text/plain": [
       "24"
      ]
     },
     "execution_count": 9,
     "metadata": {},
     "output_type": "execute_result"
    }
   ],
   "source": [
    "p = Path(\"Scaling_experiments/Mura/\")\n",
    "ls = list(p.iterdir())\n",
    "models = [str(s) for s in ls if 'ResDep' in str(s)]\n",
    "len(models)"
   ]
  },
  {
   "cell_type": "code",
   "execution_count": 10,
   "metadata": {},
   "outputs": [],
   "source": [
    "depths = [[[[64, 2], [128, 2]], [[256, 2], [512, 1]]],\n",
    "          [[[64, 2], [128, 2]], [[256, 1], [512, 1]]],\n",
    "          [[[64, 2], [128, 1]], [[256, 1], [512, 1]]],\n",
    "          [[[64, 2], [128, 1]], [[256, 2], [512, 1]]],\n",
    "          [[[64, 1], [128, 1]], [[256, 2], [512, 1]]],\n",
    "          [[[64, 1], [128, 1]], [[256, 1], [512, 1]]],\n",
    "         ]"
   ]
  },
  {
   "cell_type": "code",
   "execution_count": 11,
   "metadata": {},
   "outputs": [],
   "source": [
    "data = []\n",
    "\n",
    "for model_p in models:\n",
    "    w = float(model_p.split('_')[-2])\n",
    "    i = int(model_p.split('_')[-1])\n",
    "    d = depths[i]\n",
    "    model = resnet18(block=depthwise_block, width_mult=w, \n",
    "                     inverted_residual_setting1=d[0], \n",
    "                     inverted_residual_setting2=d[1]).cuda()\n",
    "    load_model(model, model_p)\n",
    "    for i in range(15):\n",
    "        ids = list(iter(sampled))\n",
    "        valid_ds_sampled = torch.utils.data.Subset(valid_dataset, ids)\n",
    "        valid_ds_sampled.samples = [valid_dataset.samples[i] for i in ids]\n",
    "        valid_loader = DataLoader(valid_ds_sampled, batch_size=32,num_workers=4)\n",
    "        _, score = val_metrics_mura(model, valid_loader, valid_ds_sampled)\n",
    "        data.append([model_p, score])\n",
    "#         print(model_p, val_metrics_mura(model, valid_loader, valid_ds_sampled))"
   ]
  },
  {
   "cell_type": "code",
   "execution_count": 12,
   "metadata": {},
   "outputs": [],
   "source": [
    "mura_res_depth = pd.DataFrame(data=data, columns=['model', 'score'])"
   ]
  },
  {
   "cell_type": "code",
   "execution_count": 13,
   "metadata": {},
   "outputs": [],
   "source": [
    "mura_res_depth.to_csv('bootstrap/mura_res_depth.csv', index=False)"
   ]
  },
  {
   "cell_type": "code",
   "execution_count": null,
   "metadata": {},
   "outputs": [],
   "source": []
  },
  {
   "cell_type": "code",
   "execution_count": null,
   "metadata": {},
   "outputs": [],
   "source": []
  }
 ],
 "metadata": {
  "kernelspec": {
   "display_name": "Python 3",
   "language": "python",
   "name": "python3"
  },
  "language_info": {
   "codemirror_mode": {
    "name": "ipython",
    "version": 3
   },
   "file_extension": ".py",
   "mimetype": "text/x-python",
   "name": "python",
   "nbconvert_exporter": "python",
   "pygments_lexer": "ipython3",
   "version": "3.7.4"
  }
 },
 "nbformat": 4,
 "nbformat_minor": 2
}
